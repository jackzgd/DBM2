{
 "cells": [
  {
   "cell_type": "markdown",
   "metadata": {},
   "source": [
    "### Clustering on NBA dataset\n",
    "\n",
    "In this session, we will perform clustering on the NBA dataset. The dataset is available at the following link: [NBA dataset](https://www.basketball-reference.com/leagues/NBA_2024_per_game.html).   "
   ]
  },
  {
   "cell_type": "code",
   "execution_count": 184,
   "metadata": {},
   "outputs": [
    {
     "name": "stdout",
     "output_type": "stream",
     "text": [
      "Number of instances = 735\n",
      "Number of attributes = 31\n"
     ]
    },
    {
     "data": {
      "text/html": [
       "<div>\n",
       "<style scoped>\n",
       "    .dataframe tbody tr th:only-of-type {\n",
       "        vertical-align: middle;\n",
       "    }\n",
       "\n",
       "    .dataframe tbody tr th {\n",
       "        vertical-align: top;\n",
       "    }\n",
       "\n",
       "    .dataframe thead th {\n",
       "        text-align: right;\n",
       "    }\n",
       "</style>\n",
       "<table border=\"1\" class=\"dataframe\">\n",
       "  <thead>\n",
       "    <tr style=\"text-align: right;\">\n",
       "      <th></th>\n",
       "      <th>Player</th>\n",
       "      <th>Age</th>\n",
       "      <th>Team</th>\n",
       "      <th>Pos</th>\n",
       "      <th>G</th>\n",
       "      <th>GS</th>\n",
       "      <th>MP</th>\n",
       "      <th>FG</th>\n",
       "      <th>FGA</th>\n",
       "      <th>FG%</th>\n",
       "      <th>...</th>\n",
       "      <th>DRB</th>\n",
       "      <th>TRB</th>\n",
       "      <th>AST</th>\n",
       "      <th>STL</th>\n",
       "      <th>BLK</th>\n",
       "      <th>TOV</th>\n",
       "      <th>PF</th>\n",
       "      <th>PTS</th>\n",
       "      <th>Awards</th>\n",
       "      <th>Player-additional</th>\n",
       "    </tr>\n",
       "  </thead>\n",
       "  <tbody>\n",
       "    <tr>\n",
       "      <th>0</th>\n",
       "      <td>Joel Embiid</td>\n",
       "      <td>29</td>\n",
       "      <td>PHI</td>\n",
       "      <td>C</td>\n",
       "      <td>39</td>\n",
       "      <td>39</td>\n",
       "      <td>33.6</td>\n",
       "      <td>11.5</td>\n",
       "      <td>21.8</td>\n",
       "      <td>0.529</td>\n",
       "      <td>...</td>\n",
       "      <td>8.6</td>\n",
       "      <td>11.0</td>\n",
       "      <td>5.6</td>\n",
       "      <td>1.2</td>\n",
       "      <td>1.7</td>\n",
       "      <td>3.8</td>\n",
       "      <td>2.9</td>\n",
       "      <td>34.7</td>\n",
       "      <td>AS</td>\n",
       "      <td>embiijo01</td>\n",
       "    </tr>\n",
       "    <tr>\n",
       "      <th>1</th>\n",
       "      <td>Luka Dončić</td>\n",
       "      <td>24</td>\n",
       "      <td>DAL</td>\n",
       "      <td>PG</td>\n",
       "      <td>70</td>\n",
       "      <td>70</td>\n",
       "      <td>37.5</td>\n",
       "      <td>11.5</td>\n",
       "      <td>23.6</td>\n",
       "      <td>0.487</td>\n",
       "      <td>...</td>\n",
       "      <td>8.4</td>\n",
       "      <td>9.2</td>\n",
       "      <td>9.8</td>\n",
       "      <td>1.4</td>\n",
       "      <td>0.5</td>\n",
       "      <td>4.0</td>\n",
       "      <td>2.1</td>\n",
       "      <td>33.9</td>\n",
       "      <td>MVP-3CPOY-6ASNBA1</td>\n",
       "      <td>doncilu01</td>\n",
       "    </tr>\n",
       "    <tr>\n",
       "      <th>2</th>\n",
       "      <td>Giannis Antetokounmpo</td>\n",
       "      <td>29</td>\n",
       "      <td>MIL</td>\n",
       "      <td>PF</td>\n",
       "      <td>73</td>\n",
       "      <td>73</td>\n",
       "      <td>35.2</td>\n",
       "      <td>11.5</td>\n",
       "      <td>18.8</td>\n",
       "      <td>0.611</td>\n",
       "      <td>...</td>\n",
       "      <td>8.8</td>\n",
       "      <td>11.5</td>\n",
       "      <td>6.5</td>\n",
       "      <td>1.2</td>\n",
       "      <td>1.1</td>\n",
       "      <td>3.4</td>\n",
       "      <td>2.9</td>\n",
       "      <td>30.4</td>\n",
       "      <td>MVP-4DPOY-9CPOY-12ASNBA1</td>\n",
       "      <td>antetgi01</td>\n",
       "    </tr>\n",
       "    <tr>\n",
       "      <th>3</th>\n",
       "      <td>Shai Gilgeous-Alexander</td>\n",
       "      <td>25</td>\n",
       "      <td>OKC</td>\n",
       "      <td>PG</td>\n",
       "      <td>75</td>\n",
       "      <td>75</td>\n",
       "      <td>34.0</td>\n",
       "      <td>10.6</td>\n",
       "      <td>19.8</td>\n",
       "      <td>0.535</td>\n",
       "      <td>...</td>\n",
       "      <td>4.7</td>\n",
       "      <td>5.5</td>\n",
       "      <td>6.2</td>\n",
       "      <td>2.0</td>\n",
       "      <td>0.9</td>\n",
       "      <td>2.2</td>\n",
       "      <td>2.5</td>\n",
       "      <td>30.1</td>\n",
       "      <td>MVP-2DPOY-7CPOY-3ASNBA1</td>\n",
       "      <td>gilgesh01</td>\n",
       "    </tr>\n",
       "    <tr>\n",
       "      <th>4</th>\n",
       "      <td>Jalen Brunson</td>\n",
       "      <td>27</td>\n",
       "      <td>NYK</td>\n",
       "      <td>PG</td>\n",
       "      <td>77</td>\n",
       "      <td>77</td>\n",
       "      <td>35.4</td>\n",
       "      <td>10.3</td>\n",
       "      <td>21.4</td>\n",
       "      <td>0.479</td>\n",
       "      <td>...</td>\n",
       "      <td>3.1</td>\n",
       "      <td>3.6</td>\n",
       "      <td>6.7</td>\n",
       "      <td>0.9</td>\n",
       "      <td>0.2</td>\n",
       "      <td>2.4</td>\n",
       "      <td>1.9</td>\n",
       "      <td>28.7</td>\n",
       "      <td>MVP-5CPOY-5ASNBA2</td>\n",
       "      <td>brunsja01</td>\n",
       "    </tr>\n",
       "  </tbody>\n",
       "</table>\n",
       "<p>5 rows × 31 columns</p>\n",
       "</div>"
      ],
      "text/plain": [
       "                    Player  Age Team Pos   G  GS    MP    FG   FGA    FG%  \\\n",
       "0              Joel Embiid   29  PHI   C  39  39  33.6  11.5  21.8  0.529   \n",
       "1              Luka Dončić   24  DAL  PG  70  70  37.5  11.5  23.6  0.487   \n",
       "2    Giannis Antetokounmpo   29  MIL  PF  73  73  35.2  11.5  18.8  0.611   \n",
       "3  Shai Gilgeous-Alexander   25  OKC  PG  75  75  34.0  10.6  19.8  0.535   \n",
       "4            Jalen Brunson   27  NYK  PG  77  77  35.4  10.3  21.4  0.479   \n",
       "\n",
       "   ...  DRB   TRB  AST  STL  BLK  TOV   PF   PTS                    Awards  \\\n",
       "0  ...  8.6  11.0  5.6  1.2  1.7  3.8  2.9  34.7                        AS   \n",
       "1  ...  8.4   9.2  9.8  1.4  0.5  4.0  2.1  33.9         MVP-3CPOY-6ASNBA1   \n",
       "2  ...  8.8  11.5  6.5  1.2  1.1  3.4  2.9  30.4  MVP-4DPOY-9CPOY-12ASNBA1   \n",
       "3  ...  4.7   5.5  6.2  2.0  0.9  2.2  2.5  30.1   MVP-2DPOY-7CPOY-3ASNBA1   \n",
       "4  ...  3.1   3.6  6.7  0.9  0.2  2.4  1.9  28.7         MVP-5CPOY-5ASNBA2   \n",
       "\n",
       "   Player-additional  \n",
       "0          embiijo01  \n",
       "1          doncilu01  \n",
       "2          antetgi01  \n",
       "3          gilgesh01  \n",
       "4          brunsja01  \n",
       "\n",
       "[5 rows x 31 columns]"
      ]
     },
     "execution_count": 184,
     "metadata": {},
     "output_type": "execute_result"
    }
   ],
   "source": [
    "import pandas as pd\n",
    "data = pd.read_csv('D:/学术/tweet/archive/csv/DBM2/Player_clustering.csv')\n",
    "print('Number of instances = %d' % (data.shape[0]))\n",
    "print('Number of attributes = %d' % (data.shape[1]))\n",
    "data.head()"
   ]
  },
  {
   "cell_type": "markdown",
   "metadata": {},
   "source": [
    "### Step1 Data preprocessing\n",
    "1.1 Delete some of the columns and rebundant insatances(Some players have multiple rows because they played for different teams in different times, we only keep one row for each player).\n",
    "\n",
    "1.2 Delete the noisy data(players played less than certain minutes and games).\n",
    "\n",
    "1.3 Combine the steal and block data into one column(reduce the dimension).\n",
    "\n",
    "1.4 Standardize the data."
   ]
  },
  {
   "cell_type": "code",
   "execution_count": 190,
   "metadata": {},
   "outputs": [
    {
     "name": "stdout",
     "output_type": "stream",
     "text": [
      "Filtered CSV file saved to filtered_file.csv\n"
     ]
    },
    {
     "data": {
      "text/html": [
       "<div>\n",
       "<style scoped>\n",
       "    .dataframe tbody tr th:only-of-type {\n",
       "        vertical-align: middle;\n",
       "    }\n",
       "\n",
       "    .dataframe tbody tr th {\n",
       "        vertical-align: top;\n",
       "    }\n",
       "\n",
       "    .dataframe thead th {\n",
       "        text-align: right;\n",
       "    }\n",
       "</style>\n",
       "<table border=\"1\" class=\"dataframe\">\n",
       "  <thead>\n",
       "    <tr style=\"text-align: right;\">\n",
       "      <th></th>\n",
       "      <th>Player</th>\n",
       "      <th>G</th>\n",
       "      <th>MP</th>\n",
       "      <th>STL</th>\n",
       "      <th>BLK</th>\n",
       "      <th>PTS</th>\n",
       "    </tr>\n",
       "  </thead>\n",
       "  <tbody>\n",
       "    <tr>\n",
       "      <th>0</th>\n",
       "      <td>Joel Embiid</td>\n",
       "      <td>39</td>\n",
       "      <td>33.6</td>\n",
       "      <td>1.2</td>\n",
       "      <td>1.7</td>\n",
       "      <td>34.7</td>\n",
       "    </tr>\n",
       "    <tr>\n",
       "      <th>1</th>\n",
       "      <td>Luka Dončić</td>\n",
       "      <td>70</td>\n",
       "      <td>37.5</td>\n",
       "      <td>1.4</td>\n",
       "      <td>0.5</td>\n",
       "      <td>33.9</td>\n",
       "    </tr>\n",
       "    <tr>\n",
       "      <th>2</th>\n",
       "      <td>Giannis Antetokounmpo</td>\n",
       "      <td>73</td>\n",
       "      <td>35.2</td>\n",
       "      <td>1.2</td>\n",
       "      <td>1.1</td>\n",
       "      <td>30.4</td>\n",
       "    </tr>\n",
       "    <tr>\n",
       "      <th>3</th>\n",
       "      <td>Shai Gilgeous-Alexander</td>\n",
       "      <td>75</td>\n",
       "      <td>34.0</td>\n",
       "      <td>2.0</td>\n",
       "      <td>0.9</td>\n",
       "      <td>30.1</td>\n",
       "    </tr>\n",
       "    <tr>\n",
       "      <th>4</th>\n",
       "      <td>Jalen Brunson</td>\n",
       "      <td>77</td>\n",
       "      <td>35.4</td>\n",
       "      <td>0.9</td>\n",
       "      <td>0.2</td>\n",
       "      <td>28.7</td>\n",
       "    </tr>\n",
       "  </tbody>\n",
       "</table>\n",
       "</div>"
      ],
      "text/plain": [
       "                    Player   G    MP  STL  BLK   PTS\n",
       "0              Joel Embiid  39  33.6  1.2  1.7  34.7\n",
       "1              Luka Dončić  70  37.5  1.4  0.5  33.9\n",
       "2    Giannis Antetokounmpo  73  35.2  1.2  1.1  30.4\n",
       "3  Shai Gilgeous-Alexander  75  34.0  2.0  0.9  30.1\n",
       "4            Jalen Brunson  77  35.4  0.9  0.2  28.7"
      ]
     },
     "execution_count": 190,
     "metadata": {},
     "output_type": "execute_result"
    }
   ],
   "source": [
    "file_path = 'D:/学术/tweet/archive/csv/DBM2/Player_clustering.csv' \n",
    "df = pd.read_csv(file_path)\n",
    "\n",
    "columns_to_keep = ['Player', 'G', 'MP', 'STL', 'BLK', 'PTS']\n",
    "df_filtered = df[columns_to_keep]\n",
    "df_unique = df_filtered.drop_duplicates(subset='Player', keep='first')\n",
    "\n",
    "output_file_path = 'filtered_file.csv'  \n",
    "df_unique.to_csv(output_file_path, index=False)\n",
    "print(f\"Filtered CSV file saved to {output_file_path}\")\n",
    "df_unique.head()"
   ]
  },
  {
   "cell_type": "markdown",
   "metadata": {},
   "source": [
    "#### Some players played less than 25% of average game played by the league and 25% average minutes played by the league, we delete these players."
   ]
  },
  {
   "cell_type": "code",
   "execution_count": 191,
   "metadata": {},
   "outputs": [
    {
     "data": {
      "image/png": "[encoded data removed]",
      "text/plain": [
       "<Figure size 640x480 with 1 Axes>"
      ]
     },
     "metadata": {},
     "output_type": "display_data"
    }
   ],
   "source": [
    "import matplotlib.pyplot as plt\n",
    "import seaborn as sns\n",
    "file_path = 'D:/学术/tweet/archive/csv/DBM2/filtered_file.csv' \n",
    "df = pd.read_csv(file_path)\n",
    "plt.scatter(df['G'], df['MP'], color='purple', alpha=0.6)\n",
    "plt.title('Game Played vs Average Minutes')\n",
    "plt.xlabel('Games Played')\n",
    "plt.ylabel('Average Minutes')\n",
    "games_threshold = df['G'].quantile(0.25)\n",
    "minutes_threshold = df['MP'].quantile(0.25)\n",
    "plt.axvline(x=games_threshold, color='red', linestyle='--', label='Min Games Threshold')  \n",
    "plt.axhline(y=minutes_threshold, color='blue', linestyle='--', label='Min Avg Minutes Threshold')  \n",
    "plt.legend()\n",
    "plt.show()\n",
    "filtered_df = df[(df['G'] >= games_threshold) & \n",
    "                 (df['MP'] >= minutes_threshold)]\n",
    "output_file_path = 'filtered_file.csv'  \n",
    "filtered_df.to_csv(output_file_path, index=False)\n"
   ]
  },
  {
   "cell_type": "markdown",
   "metadata": {},
   "source": [
    "\n",
    "#### Combine the block column and steal column into a new column called defense_features. We also conveyed all the data into per 36 performance in order to make the data more comparable."
   ]
  },
  {
   "cell_type": "code",
   "execution_count": 192,
   "metadata": {},
   "outputs": [
    {
     "data": {
      "text/html": [
       "<div>\n",
       "<style scoped>\n",
       "    .dataframe tbody tr th:only-of-type {\n",
       "        vertical-align: middle;\n",
       "    }\n",
       "\n",
       "    .dataframe tbody tr th {\n",
       "        vertical-align: top;\n",
       "    }\n",
       "\n",
       "    .dataframe thead th {\n",
       "        text-align: right;\n",
       "    }\n",
       "</style>\n",
       "<table border=\"1\" class=\"dataframe\">\n",
       "  <thead>\n",
       "    <tr style=\"text-align: right;\">\n",
       "      <th></th>\n",
       "      <th>Player</th>\n",
       "      <th>G</th>\n",
       "      <th>MP</th>\n",
       "      <th>STL</th>\n",
       "      <th>BLK</th>\n",
       "      <th>PTS</th>\n",
       "      <th>avg36pts</th>\n",
       "      <th>avg36blk</th>\n",
       "      <th>avg36stl</th>\n",
       "      <th>defense_features</th>\n",
       "    </tr>\n",
       "  </thead>\n",
       "  <tbody>\n",
       "    <tr>\n",
       "      <th>0</th>\n",
       "      <td>Joel Embiid</td>\n",
       "      <td>39</td>\n",
       "      <td>33.6</td>\n",
       "      <td>1.2</td>\n",
       "      <td>1.7</td>\n",
       "      <td>34.7</td>\n",
       "      <td>37.178571</td>\n",
       "      <td>1.821429</td>\n",
       "      <td>1.285714</td>\n",
       "      <td>3.107143</td>\n",
       "    </tr>\n",
       "    <tr>\n",
       "      <th>1</th>\n",
       "      <td>Luka Dončić</td>\n",
       "      <td>70</td>\n",
       "      <td>37.5</td>\n",
       "      <td>1.4</td>\n",
       "      <td>0.5</td>\n",
       "      <td>33.9</td>\n",
       "      <td>32.544000</td>\n",
       "      <td>0.480000</td>\n",
       "      <td>1.344000</td>\n",
       "      <td>1.824000</td>\n",
       "    </tr>\n",
       "    <tr>\n",
       "      <th>2</th>\n",
       "      <td>Giannis Antetokounmpo</td>\n",
       "      <td>73</td>\n",
       "      <td>35.2</td>\n",
       "      <td>1.2</td>\n",
       "      <td>1.1</td>\n",
       "      <td>30.4</td>\n",
       "      <td>31.090909</td>\n",
       "      <td>1.125000</td>\n",
       "      <td>1.227273</td>\n",
       "      <td>2.352273</td>\n",
       "    </tr>\n",
       "    <tr>\n",
       "      <th>3</th>\n",
       "      <td>Shai Gilgeous-Alexander</td>\n",
       "      <td>75</td>\n",
       "      <td>34.0</td>\n",
       "      <td>2.0</td>\n",
       "      <td>0.9</td>\n",
       "      <td>30.1</td>\n",
       "      <td>31.870588</td>\n",
       "      <td>0.952941</td>\n",
       "      <td>2.117647</td>\n",
       "      <td>3.070588</td>\n",
       "    </tr>\n",
       "    <tr>\n",
       "      <th>4</th>\n",
       "      <td>Jalen Brunson</td>\n",
       "      <td>77</td>\n",
       "      <td>35.4</td>\n",
       "      <td>0.9</td>\n",
       "      <td>0.2</td>\n",
       "      <td>28.7</td>\n",
       "      <td>29.186441</td>\n",
       "      <td>0.203390</td>\n",
       "      <td>0.915254</td>\n",
       "      <td>1.118644</td>\n",
       "    </tr>\n",
       "  </tbody>\n",
       "</table>\n",
       "</div>"
      ],
      "text/plain": [
       "                    Player   G    MP  STL  BLK   PTS   avg36pts  avg36blk  \\\n",
       "0              Joel Embiid  39  33.6  1.2  1.7  34.7  37.178571  1.821429   \n",
       "1              Luka Dončić  70  37.5  1.4  0.5  33.9  32.544000  0.480000   \n",
       "2    Giannis Antetokounmpo  73  35.2  1.2  1.1  30.4  31.090909  1.125000   \n",
       "3  Shai Gilgeous-Alexander  75  34.0  2.0  0.9  30.1  31.870588  0.952941   \n",
       "4            Jalen Brunson  77  35.4  0.9  0.2  28.7  29.186441  0.203390   \n",
       "\n",
       "   avg36stl  defense_features  \n",
       "0  1.285714          3.107143  \n",
       "1  1.344000          1.824000  \n",
       "2  1.227273          2.352273  \n",
       "3  2.117647          3.070588  \n",
       "4  0.915254          1.118644  "
      ]
     },
     "execution_count": 192,
     "metadata": {},
     "output_type": "execute_result"
    }
   ],
   "source": [
    "#Standerdization\n",
    "from sklearn.preprocessing import StandardScaler\n",
    "df= pd.read_csv('D:/学术/tweet/archive/csv/DBM2/filtered_file.csv')\n",
    "df['avg36pts']=(df['PTS']/(df['MP']/36))\n",
    "df['avg36blk']=(df['BLK']/(df['MP']/36))\n",
    "df['avg36stl']=(df['STL']/(df['MP']/36))\n",
    "df['defense_features']=df['avg36blk']+df['avg36stl']\n",
    "df.head()"
   ]
  },
  {
   "cell_type": "markdown",
   "metadata": {},
   "source": [
    "#### As the data is not normalized(Points are way higher than blocks and steals, which will affect the results of the clustering), we need to standardize the data before clustering."
   ]
  },
  {
   "cell_type": "code",
   "execution_count": 193,
   "metadata": {},
   "outputs": [
    {
     "data": {
      "text/html": [
       "<div>\n",
       "<style scoped>\n",
       "    .dataframe tbody tr th:only-of-type {\n",
       "        vertical-align: middle;\n",
       "    }\n",
       "\n",
       "    .dataframe tbody tr th {\n",
       "        vertical-align: top;\n",
       "    }\n",
       "\n",
       "    .dataframe thead th {\n",
       "        text-align: right;\n",
       "    }\n",
       "</style>\n",
       "<table border=\"1\" class=\"dataframe\">\n",
       "  <thead>\n",
       "    <tr style=\"text-align: right;\">\n",
       "      <th></th>\n",
       "      <th>Player</th>\n",
       "      <th>G</th>\n",
       "      <th>MP</th>\n",
       "      <th>STL</th>\n",
       "      <th>BLK</th>\n",
       "      <th>PTS</th>\n",
       "      <th>avg36pts</th>\n",
       "      <th>avg36blk</th>\n",
       "      <th>avg36stl</th>\n",
       "      <th>defense_features</th>\n",
       "    </tr>\n",
       "  </thead>\n",
       "  <tbody>\n",
       "    <tr>\n",
       "      <th>0</th>\n",
       "      <td>Joel Embiid</td>\n",
       "      <td>39</td>\n",
       "      <td>33.6</td>\n",
       "      <td>1.2</td>\n",
       "      <td>1.7</td>\n",
       "      <td>34.7</td>\n",
       "      <td>4.111973</td>\n",
       "      <td>1.821429</td>\n",
       "      <td>1.285714</td>\n",
       "      <td>1.600756</td>\n",
       "    </tr>\n",
       "    <tr>\n",
       "      <th>1</th>\n",
       "      <td>Luka Dončić</td>\n",
       "      <td>70</td>\n",
       "      <td>37.5</td>\n",
       "      <td>1.4</td>\n",
       "      <td>0.5</td>\n",
       "      <td>33.9</td>\n",
       "      <td>3.218483</td>\n",
       "      <td>0.480000</td>\n",
       "      <td>1.344000</td>\n",
       "      <td>-0.106250</td>\n",
       "    </tr>\n",
       "    <tr>\n",
       "      <th>2</th>\n",
       "      <td>Giannis Antetokounmpo</td>\n",
       "      <td>73</td>\n",
       "      <td>35.2</td>\n",
       "      <td>1.2</td>\n",
       "      <td>1.1</td>\n",
       "      <td>30.4</td>\n",
       "      <td>2.938344</td>\n",
       "      <td>1.125000</td>\n",
       "      <td>1.227273</td>\n",
       "      <td>0.596528</td>\n",
       "    </tr>\n",
       "    <tr>\n",
       "      <th>3</th>\n",
       "      <td>Shai Gilgeous-Alexander</td>\n",
       "      <td>75</td>\n",
       "      <td>34.0</td>\n",
       "      <td>2.0</td>\n",
       "      <td>0.9</td>\n",
       "      <td>30.1</td>\n",
       "      <td>3.088657</td>\n",
       "      <td>0.952941</td>\n",
       "      <td>2.117647</td>\n",
       "      <td>1.552126</td>\n",
       "    </tr>\n",
       "    <tr>\n",
       "      <th>4</th>\n",
       "      <td>Jalen Brunson</td>\n",
       "      <td>77</td>\n",
       "      <td>35.4</td>\n",
       "      <td>0.9</td>\n",
       "      <td>0.2</td>\n",
       "      <td>28.7</td>\n",
       "      <td>2.571185</td>\n",
       "      <td>0.203390</td>\n",
       "      <td>0.915254</td>\n",
       "      <td>-1.044608</td>\n",
       "    </tr>\n",
       "  </tbody>\n",
       "</table>\n",
       "</div>"
      ],
      "text/plain": [
       "                    Player   G    MP  STL  BLK   PTS  avg36pts  avg36blk  \\\n",
       "0              Joel Embiid  39  33.6  1.2  1.7  34.7  4.111973  1.821429   \n",
       "1              Luka Dončić  70  37.5  1.4  0.5  33.9  3.218483  0.480000   \n",
       "2    Giannis Antetokounmpo  73  35.2  1.2  1.1  30.4  2.938344  1.125000   \n",
       "3  Shai Gilgeous-Alexander  75  34.0  2.0  0.9  30.1  3.088657  0.952941   \n",
       "4            Jalen Brunson  77  35.4  0.9  0.2  28.7  2.571185  0.203390   \n",
       "\n",
       "   avg36stl  defense_features  \n",
       "0  1.285714          1.600756  \n",
       "1  1.344000         -0.106250  \n",
       "2  1.227273          0.596528  \n",
       "3  2.117647          1.552126  \n",
       "4  0.915254         -1.044608  "
      ]
     },
     "execution_count": 193,
     "metadata": {},
     "output_type": "execute_result"
    }
   ],
   "source": [
    "scaler = StandardScaler()\n",
    "columns_to_standardize = ['avg36pts', 'defense_features']\n",
    "df[columns_to_standardize] = scaler.fit_transform(df[columns_to_standardize])\n",
    "df.to_csv('D:/学术/tweet/archive/csv/DBM2/filtered_file2.csv', index=False)\n",
    "df.head()"
   ]
  },
  {
   "cell_type": "markdown",
   "metadata": {},
   "source": [
    "### Step2 : Clustering\n"
   ]
  },
  {
   "cell_type": "markdown",
   "metadata": {},
   "source": [
    "2.1 K-means :In this session, we will use the K-Means algorithm to cluster the data. And use elbow method and silhouette method to find the optimal number of clusters."
   ]
  },
  {
   "cell_type": "code",
   "execution_count": 234,
   "metadata": {},
   "outputs": [
    {
     "data": {
      "image/png": "[encoded data removed]",
      "text/plain": [
       "<Figure size 800x500 with 1 Axes>"
      ]
     },
     "metadata": {},
     "output_type": "display_data"
    }
   ],
   "source": [
    "#Using Elbow Method to determine optimal number of clusters\n",
    "import numpy as np\n",
    "from sklearn.cluster import KMeans\n",
    "import matplotlib.pyplot as plt\n",
    "import plotly.express as px\n",
    "features = df[['avg36pts', 'defense_features']]\n",
    "sse = []\n",
    "k_values = range(1, 11)  \n",
    "for k in k_values:\n",
    "    kmeans = KMeans(n_clusters=k, random_state=42)\n",
    "    kmeans.fit(features)\n",
    "    sse.append(kmeans.inertia_)  \n",
    "plt.figure(figsize=(8, 5))\n",
    "plt.plot(k_values, sse, marker='o')\n",
    "plt.xlabel('Number of Clusters (k)')\n",
    "plt.ylabel('Sum of Squared Errors (SSE)')\n",
    "plt.title('Elbow Method for Optimal k')\n",
    "plt.grid()\n",
    "plt.show()"
   ]
  },
  {
   "cell_type": "code",
   "execution_count": 235,
   "metadata": {},
   "outputs": [
    {
     "data": {
      "image/png": "[encoded data removed]",
      "text/plain": [
       "<Figure size 800x500 with 1 Axes>"
      ]
     },
     "metadata": {},
     "output_type": "display_data"
    }
   ],
   "source": [
    "#Using silhouette method to find optimal number of clusters\n",
    "from sklearn.metrics import silhouette_score\n",
    "silhouette_scores = []\n",
    "for k in range(2, 11):  \n",
    "    kmeans = KMeans(n_clusters=k, random_state=42)\n",
    "    labels = kmeans.fit_predict(features)\n",
    "    score = silhouette_score(features, labels)\n",
    "    silhouette_scores.append(score)\n",
    "plt.figure(figsize=(8, 5))\n",
    "plt.plot(range(2, 11), silhouette_scores, marker='o')\n",
    "plt.xlabel('Number of Clusters (k)')\n",
    "plt.ylabel('Silhouette Score')\n",
    "plt.title('Silhouette Method for Optimal k')\n",
    "plt.grid()\n",
    "plt.show()\n"
   ]
  },
  {
   "cell_type": "code",
   "execution_count": null,
   "metadata": {},
   "outputs": [
    {
     "data": {
      "application/vnd.plotly.v1+json": {
       "config": {
        "plotlyServerURL": "https://plot.ly"
       },
       "data": [
        {
         "customdata": [
          [
           "Joel Embiid",
           2
          ],
          [
           "Luka Dončić",
           2
          ],
          [
           "Giannis Antetokounmpo",
           2
          ],
          [
           "Shai Gilgeous-Alexander",
           2
          ],
          [
           "Jalen Brunson",
           2
          ],
          [
           "Devin Booker",
           2
          ],
          [
           "Kevin Durant",
           2
          ],
          [
           "Jayson Tatum",
           2
          ],
          [
           "De'Aaron Fox",
           2
          ],
          [
           "Donovan Mitchell",
           2
          ],
          [
           "Stephen Curry",
           2
          ],
          [
           "Nikola Jokić",
           2
          ],
          [
           "Anthony Edwards",
           2
          ],
          [
           "Tyrese Maxey",
           2
          ],
          [
           "LeBron James",
           2
          ],
          [
           "Trae Young",
           2
          ],
          [
           "Kyrie Irving",
           2
          ],
          [
           "Damian Lillard",
           2
          ],
          [
           "DeMar DeRozan",
           2
          ],
          [
           "Julius Randle",
           2
          ],
          [
           "LaMelo Ball",
           2
          ],
          [
           "Desmond Bane",
           2
          ],
          [
           "Kawhi Leonard",
           2
          ],
          [
           "Lauri Markkanen",
           2
          ],
          [
           "Jaylen Brown",
           2
          ],
          [
           "Zion Williamson",
           2
          ],
          [
           "Cade Cunningham",
           2
          ],
          [
           "Paolo Banchero",
           2
          ],
          [
           "Paul George",
           2
          ],
          [
           "Anfernee Simons",
           2
          ],
          [
           "Jaren Jackson Jr.",
           2
          ],
          [
           "Dejounte Murray",
           2
          ],
          [
           "Cam Thomas",
           2
          ],
          [
           "Kyle Kuzma",
           2
          ],
          [
           "Karl-Anthony Towns",
           2
          ],
          [
           "Pascal Siakam",
           2
          ],
          [
           "Jamal Murray",
           2
          ],
          [
           "Alperen Sengun",
           2
          ],
          [
           "Miles Bridges",
           2
          ],
          [
           "Jerami Grant",
           2
          ],
          [
           "Jimmy Butler",
           2
          ],
          [
           "Tyler Herro",
           2
          ],
          [
           "Brandon Ingram",
           2
          ],
          [
           "RJ Barrett",
           2
          ],
          [
           "Tyrese Haliburton",
           2
          ],
          [
           "CJ McCollum",
           2
          ],
          [
           "Terry Rozier",
           2
          ],
          [
           "Franz Wagner",
           2
          ],
          [
           "Mikal Bridges",
           2
          ],
          [
           "Jalen Green",
           2
          ],
          [
           "Zach LaVine",
           2
          ],
          [
           "Devin Vassell",
           2
          ],
          [
           "Domantas Sabonis",
           2
          ],
          [
           "Bam Adebayo",
           2
          ],
          [
           "Coby White",
           2
          ],
          [
           "Jalen Williams",
           2
          ],
          [
           "Collin Sexton",
           2
          ],
          [
           "Bradley Beal",
           2
          ],
          [
           "Darius Garland",
           2
          ],
          [
           "D'Angelo Russell",
           2
          ],
          [
           "Nikola Vučević",
           2
          ],
          [
           "Klay Thompson",
           2
          ],
          [
           "Jordan Poole",
           2
          ],
          [
           "Brandon Miller",
           2
          ],
          [
           "Tobias Harris",
           2
          ],
          [
           "Jordan Clarkson",
           2
          ],
          [
           "Immanuel Quickley",
           2
          ],
          [
           "Bogdan Bogdanović",
           2
          ],
          [
           "Deandre Ayton",
           2
          ],
          [
           "Michael Porter Jr.",
           2
          ],
          [
           "James Harden",
           2
          ],
          [
           "Jarrett Allen",
           2
          ],
          [
           "Jonathan Kuminga",
           2
          ],
          [
           "Austin Reaves",
           2
          ],
          [
           "Shaedon Sharpe",
           2
          ],
          [
           "Malcolm Brogdon",
           2
          ],
          [
           "Keldon Johnson",
           2
          ],
          [
           "De'Andre Hunter",
           2
          ],
          [
           "Donte DiVincenzo",
           2
          ],
          [
           "Jaden Ivey",
           2
          ],
          [
           "Malik Monk",
           2
          ],
          [
           "Kelly Oubre Jr.",
           2
          ],
          [
           "Bojan Bogdanović",
           2
          ],
          [
           "John Collins",
           2
          ],
          [
           "Khris Middleton",
           2
          ],
          [
           "Trey Murphy III",
           2
          ],
          [
           "Deni Avdija",
           2
          ],
          [
           "GG Jackson II",
           2
          ],
          [
           "Bennedict Mathurin",
           2
          ],
          [
           "Tim Hardaway Jr.",
           2
          ],
          [
           "Scoot Henderson",
           2
          ],
          [
           "Caris LeVert",
           2
          ],
          [
           "Norman Powell",
           2
          ],
          [
           "Bobby Portis",
           2
          ],
          [
           "Gary Trent Jr.",
           2
          ],
          [
           "Rui Hachimura",
           2
          ],
          [
           "Naz Reid",
           2
          ],
          [
           "Cameron Johnson",
           2
          ],
          [
           "Corey Kispert",
           2
          ],
          [
           "Andrew Wiggins",
           2
          ],
          [
           "Keyonte George",
           2
          ],
          [
           "Josh Giddey",
           2
          ],
          [
           "Cam Whitmore",
           2
          ],
          [
           "Jonas Valančiūnas",
           2
          ],
          [
           "Marvin Bagley III",
           2
          ],
          [
           "Cole Anthony",
           2
          ],
          [
           "Zach Collins",
           2
          ],
          [
           "Russell Westbrook",
           2
          ],
          [
           "Moritz Wagner",
           2
          ],
          [
           "Alec Burks",
           2
          ],
          [
           "Dalano Banton",
           2
          ],
          [
           "Obi Toppin",
           2
          ],
          [
           "T.J. McConnell",
           2
          ],
          [
           "Talen Horton-Tucker",
           2
          ],
          [
           "Jalen Smith",
           2
          ],
          [
           "Lonnie Walker IV",
           2
          ],
          [
           "Duop Reath",
           2
          ],
          [
           "Kevin Love",
           2
          ],
          [
           "Derrick Rose",
           2
          ],
          [
           "Jaden Hardy",
           2
          ],
          [
           "Jordan Nwora",
           2
          ],
          [
           "Trendon Watford",
           2
          ],
          [
           "Thomas Bryant",
           2
          ],
          [
           "Brandon Boston Jr.",
           2
          ]
         ],
         "hovertemplate": "color=2<br>Avg Points per 36 Minutes=%{x}<br>Defensive Feature=%{y}<br>Player=%{customdata[0]}<br>Cluster=%{customdata[1]}<extra></extra>",
         "legendgroup": "2",
         "marker": {
          "color": "#636efa",
          "symbol": "circle"
         },
         "mode": "markers",
         "name": "2",
         "orientation": "v",
         "showlegend": true,
         "type": "scatter",
         "x": [
          4.111972727369862,
          3.2184826545066314,
          2.9383440651569073,
          3.088656901254734,
          2.571185278789759,
          2.168944410974422,
          2.0004103255075982,
          2.173966621155624,
          2.0868349523815497,
          2.174241986787419,
          2.5476226257588923,
          2.2399305378373215,
          2.0656297795296723,
          1.7378702903759602,
          1.9972920317965899,
          1.899041115429768,
          2.0207730099509287,
          1.7220365462553002,
          1.3509721785584825,
          1.6497236644605546,
          2.079832155280444,
          1.7259801983529641,
          1.7399207010843052,
          1.808937447279664,
          1.7094182244234493,
          1.989926919031539,
          1.6472656531679641,
          1.425884113648427,
          1.58499049301454,
          1.504049747697477,
          1.7940255030993948,
          1.3185708225507198,
          1.9175831525668212,
          1.6706523057467153,
          1.5713013994112595,
          1.4807142348136568,
          1.6153672435818156,
          1.4502898119582728,
          0.8413872158909603,
          1.2437322923027048,
          1.1902614527599846,
          1.2536327018832243,
          1.3322207555071817,
          1.366958210355371,
          1.2767308106624369,
          1.1892626586665336,
          1.058739110181893,
          1.151320007662656,
          0.853332041804793,
          1.2355947316765858,
          0.82224518009372,
          1.033125643944579,
          0.7159056008063553,
          0.8840686384866385,
          0.576198055367959,
          1.1795658997161445,
          1.8235203759137824,
          0.7376232664548016,
          0.6847071693928949,
          0.764775168950172,
          0.5865646776406794,
          1.1273046361776307,
          0.9564291551709477,
          0.6732203361526525,
          0.47617391114893015,
          0.8228300756319687,
          0.9850143973475315,
          0.8026858115350375,
          0.5216774722931633,
          0.6006712513957867,
          0.30328425082996435,
          0.556883425169525,
          1.1930556077191328,
          0.382141352285283,
          0.27828172718611754,
          0.741036408636766,
          0.6380764453246616,
          0.6145497658098736,
          0.6411486577698914,
          0.6555580752418999,
          1.0552225705676372,
          0.4835170673202251,
          1.0175009253758982,
          0.6872304007394868,
          0.8258542021926931,
          0.4145729899341735,
          0.3338710078776324,
          0.8871663089812319,
          0.800149126426535,
          0.6735420368320285,
          0.3536925473301166,
          0.31817895581108296,
          0.6264926985406627,
          0.8536576514907822,
          0.3281270945639996,
          0.453273940437124,
          0.8160820246286996,
          0.313987910849209,
          0.5490762933617419,
          0.33745776263570065,
          0.2860476111033859,
          0.34544579414869,
          1.5094442652146254,
          0.5474737008102643,
          0.7928396262086708,
          0.5385081766638613,
          0.4616795767454574,
          0.36830385355508966,
          1.2184012066894374,
          0.867205845816512,
          0.6292236226206438,
          0.33234111248319576,
          0.8340459296346554,
          0.4846777420236932,
          0.9391358733016901,
          0.8134448552711002,
          0.4727325189022957,
          0.5798199055737574,
          0.28914460818364585,
          0.6973288233619055,
          0.49056244749106237,
          0.46560512564639805,
          0.3547422101336353,
          0.2860476111033859
         ],
         "xaxis": "x",
         "y": [
          1.6007556533113474,
          -0.10625016260365883,
          0.5965278740147771,
          1.5521258754600227,
          -1.0446076275256537,
          -0.8033440540283128,
          0.17080217444617926,
          -0.3863576830272928,
          0.6689145686460749,
          0.5876629920372533,
          -0.9217313841428019,
          0.6507932498193917,
          -0.07677819537959824,
          -0.6170975944873747,
          -0.09069319406895623,
          -0.537277683255544,
          -0.06976106032625035,
          -0.9047206173964073,
          -0.3789048435098477,
          -1.4504715829417418,
          0.4326701544687136,
          -0.44446383298597336,
          0.957891207894637,
          -0.5071342122465449,
          -0.10243786833586971,
          0.20390720675431215,
          -0.6742820085042085,
          -0.48026346094709377,
          0.301067538262204,
          -1.6974508116251752,
          1.6317416436963748,
          -0.2522065717132919,
          -1.1600763536949867,
          -0.7698817190538236,
          -0.4823557259859363,
          -0.9459940961896166,
          0.05186928059844364,
          0.2670614222344418,
          -0.7400287946732953,
          -0.5549369556519667,
          -0.279036793976092,
          -1.3890871837146321,
          -0.49482028366414477,
          -1.1730671970106616,
          0.2931468590631905,
          -0.33589717326698065,
          -0.6687176568408937,
          -0.32237792224676914,
          -0.606087951558846,
          -0.870909804334962,
          -1.0232871714149712,
          -0.5071342122465445,
          -0.5205087943412939,
          0.2843978735427125,
          -1.3518781471968293,
          0.0683845824811901,
          -0.7323263385212957,
          -0.3754805658937251,
          -0.5253285947477848,
          -0.48235572598593596,
          -0.43837546088374185,
          -0.7589996588995178,
          -0.30524305758161796,
          -0.30178415632933586,
          -0.12400891208482312,
          -1.437208054986968,
          -1.2206673342129981,
          -0.1696859867931663,
          0.12788824367637788,
          -0.7198311079971126,
          0.12013120662760945,
          0.18664107002998637,
          -0.3475915824194448,
          -0.891618410686568,
          -0.6518228730897421,
          -1.0309374129994442,
          -0.9093196423869582,
          -0.9093196423869582,
          0.2650358574767743,
          -0.537277683255544,
          -0.5065777173971477,
          0.32171142768303046,
          -1.423309516427409,
          0.032864539828960516,
          -0.40424449786915984,
          -0.267615820985846,
          -0.4643525151865958,
          -0.4829256036229747,
          -1.0648230735808615,
          -1.4605677012356746,
          -0.8523562802232966,
          0.12788824367637788,
          -0.8876322554563272,
          -0.18704746050363374,
          -0.4875677741254002,
          -0.7524056967985822,
          0.8315348440671719,
          -0.6240384563336209,
          -1.2333815602773228,
          -0.40424449786915984,
          -1.4685099809602349,
          -0.2431206398713079,
          0.02829120648871093,
          -0.08722924758671176,
          -0.03603890419310071,
          0.24666787348564984,
          0.2843978735427125,
          0.4471678886037007,
          -0.3681677018321739,
          -0.9710815486459274,
          -0.0641184156441768,
          -0.03603890419310071,
          0.3617927454546365,
          0.6116452814450479,
          -0.026801506772906252,
          -0.05560580513242793,
          0.41030506181507115,
          -1.1074199063400485,
          -1.3787526510609873,
          -1.1137548199298763,
          0.2638345645091796,
          -0.06774879365654021,
          0.3572558046873856,
          0.1278882436763773
         ],
         "yaxis": "y"
        },
        {
         "customdata": [
          [
           "Anthony Davis",
           0
          ],
          [
           "Victor Wembanyama",
           0
          ],
          [
           "Kristaps Porziņģis",
           0
          ],
          [
           "Scottie Barnes",
           0
          ],
          [
           "Myles Turner",
           0
          ],
          [
           "Chet Holmgren",
           0
          ],
          [
           "Evan Mobley",
           0
          ],
          [
           "Derrick White",
           0
          ],
          [
           "Rudy Gobert",
           0
          ],
          [
           "Jalen Suggs",
           0
          ],
          [
           "Brook Lopez",
           0
          ],
          [
           "Nic Claxton",
           0
          ],
          [
           "Clint Capela",
           0
          ],
          [
           "De'Anthony Melton",
           0
          ],
          [
           "Jakob Poeltl",
           0
          ],
          [
           "Daniel Gafford",
           0
          ],
          [
           "Herbert Jones",
           0
          ],
          [
           "Jusuf Nurkić",
           0
          ],
          [
           "Alex Caruso",
           0
          ],
          [
           "Tari Eason",
           0
          ],
          [
           "Amen Thompson",
           0
          ],
          [
           "Dereck Lively II",
           0
          ],
          [
           "Ausar Thompson",
           0
          ],
          [
           "Draymond Green",
           0
          ],
          [
           "Andre Drummond",
           0
          ],
          [
           "Walker Kessler",
           0
          ],
          [
           "Trayce Jackson-Davis",
           0
          ],
          [
           "Isaiah Hartenstein",
           0
          ],
          [
           "Precious Achiuwa",
           0
          ],
          [
           "Taylor Hendricks",
           0
          ],
          [
           "Paul Reed",
           0
          ],
          [
           "Lamar Stevens",
           0
          ],
          [
           "Jose Alvarado",
           0
          ],
          [
           "Trey Jemison",
           0
          ],
          [
           "Jonathan Isaac",
           0
          ],
          [
           "Day'Ron Sharpe",
           0
          ],
          [
           "Cason Wallace",
           0
          ],
          [
           "Peyton Watson",
           0
          ],
          [
           "Dennis Smith Jr.",
           0
          ],
          [
           "Isaiah Jackson",
           0
          ],
          [
           "Bruno Fernando",
           0
          ],
          [
           "Daniel Theis",
           0
          ],
          [
           "Dyson Daniels",
           0
          ],
          [
           "Mitchell Robinson",
           0
          ],
          [
           "Gary Payton II",
           0
          ],
          [
           "Neemias Queta",
           0
          ],
          [
           "Kris Dunn",
           0
          ],
          [
           "Keon Ellis",
           0
          ],
          [
           "Matisse Thybulle",
           0
          ],
          [
           "Xavier Tillman Sr.",
           0
          ],
          [
           "Luke Kornet",
           0
          ],
          [
           "Aleksej Pokusevski",
           0
          ],
          [
           "Bol Bol",
           0
          ],
          [
           "Jarred Vanderbilt",
           0
          ],
          [
           "Drew Eubanks",
           0
          ],
          [
           "Goga Bitadze",
           0
          ],
          [
           "Jock Landale",
           0
          ],
          [
           "Josh Okogie",
           0
          ],
          [
           "Delon Wright",
           0
          ],
          [
           "Robert Covington",
           0
          ],
          [
           "Patrick Baldwin Jr.",
           0
          ],
          [
           "Mo Bamba",
           0
          ],
          [
           "Jontay Porter",
           0
          ],
          [
           "Jaxson Hayes",
           0
          ],
          [
           "John Konchar",
           0
          ],
          [
           "Thaddeus Young",
           0
          ],
          [
           "Keita Bates-Diop",
           0
          ],
          [
           "Dalen Terry",
           0
          ]
         ],
         "hovertemplate": "color=0<br>Avg Points per 36 Minutes=%{x}<br>Defensive Feature=%{y}<br>Player=%{customdata[0]}<br>Cluster=%{customdata[1]}<extra></extra>",
         "legendgroup": "0",
         "marker": {
          "color": "#EF553B",
          "symbol": "circle"
         },
         "mode": "markers",
         "name": "0",
         "orientation": "v",
         "showlegend": true,
         "type": "scatter",
         "x": [
          1.7733215723340183,
          1.9451934105553688,
          1.6572744568723945,
          0.901790973295582,
          1.339955717515843,
          0.8394936301502461,
          0.5052967867559055,
          0.18038871071488582,
          -0.20619328260045086,
          0.1832273080387563,
          -0.2111981168321194,
          -0.3074118562495114,
          0.03796374033698251,
          -0.1917419012787235,
          -0.1375019327707996,
          0.060472456420779315,
          -0.5525278114319153,
          -0.2845485762332964,
          -0.6131822170925063,
          0.0643708109181744,
          -0.11215155366699998,
          -0.4566650035868659,
          -0.6223349468480756,
          -0.8531330529244787,
          0.35369254733011596,
          -0.6428654273131207,
          0.24733514760013686,
          -0.9158932834169423,
          -0.6470818516406869,
          -0.6881026901280962,
          -0.4440295408117053,
          0.34375288323149505,
          -0.37753450785991827,
          -0.9947162076383469,
          -0.06861735832840718,
          0.06985260300391541,
          -0.7646161653580026,
          -0.5555863212401574,
          -0.6319908091165236,
          0.38808302635836217,
          -0.17901132545538423,
          -0.4683735474773302,
          -1.2504934649633372,
          -1.4884318127539369,
          -0.5929001409007085,
          0.15212200627130534,
          -1.0726492508220804,
          -0.876658722970481,
          -1.4190183316386755,
          -1.0120587150875668,
          -0.6976658653322562,
          -0.5666517987946653,
          0.25539018129053775,
          -1.2511159197128314,
          -0.7866449737535706,
          -0.8022452070482166,
          -0.5550375885980899,
          -1.0602557321491122,
          -1.0789244501501662,
          -1.2378961664616646,
          -0.7065637761743873,
          -0.7065637761743873,
          -0.8427404986278774,
          -0.6681248013363795,
          -1.6545045875811788,
          -0.8639163047510275,
          -1.0012625832657804,
          -1.184729767516755
         ],
         "xaxis": "x",
         "y": [
          2.1889657637471216,
          5.207337140247418,
          1.6739495873559798,
          1.3095583717502792,
          1.7242864683129902,
          2.19126009864887,
          1.066946022874385,
          0.6991964017774154,
          1.3997011010359466,
          1.0147761462522735,
          2.0208850455678804,
          1.806427763987805,
          1.365406247270651,
          1.0279640704541462,
          1.4582200975402217,
          3.3315445448178798,
          0.9217256122115236,
          1.3266488152899518,
          1.9727386891042875,
          2.5200446047526466,
          1.529487875425785,
          1.7469304147617364,
          1.2833159095820272,
          0.8249624992065101,
          1.6682724955187234,
          3.428024773862222,
          1.794810084662399,
          1.8210378758667243,
          0.7474948605444697,
          0.8241366905583897,
          1.9108072230815296,
          1.3767712085281498,
          1.1111770052279148,
          0.8133867535276169,
          3.2263826881187483,
          0.9560418480684397,
          0.7220170327806186,
          1.5869618898496258,
          1.0147761462522742,
          3.3166226109530723,
          1.24816769956172,
          1.1512204389562584,
          1.332942209956631,
          1.9088163706231367,
          1.4839684560021027,
          2.6991178771947317,
          1.0147761462522742,
          1.3654062472706516,
          2.695603000915762,
          1.9903528390857597,
          1.7652197561241858,
          0.7701174145071992,
          0.9822298012036167,
          0.8196608076855761,
          1.1512204389562577,
          2.753997877277732,
          0.9886912079412179,
          1.0591205413810687,
          1.4077011663808356,
          2.8835756552514824,
          0.7828208486555011,
          2.993218390460042,
          3.0199140129456032,
          0.9154447011637735,
          1.51443130263306,
          0.7080329619027154,
          0.9154447011637735,
          0.7988382221468385
         ],
         "yaxis": "y"
        },
        {
         "customdata": [
          [
           "Fred VanVleet",
           1
          ],
          [
           "Jalen Johnson",
           1
          ],
          [
           "Keegan Murray",
           1
          ],
          [
           "OG Anunoby",
           1
          ],
          [
           "Dennis Schröder",
           1
          ],
          [
           "Aaron Gordon",
           1
          ],
          [
           "Jalen Duren",
           1
          ],
          [
           "Saddiq Bey",
           1
          ],
          [
           "Jabari Smith Jr.",
           1
          ],
          [
           "Grayson Allen",
           1
          ],
          [
           "P.J. Washington",
           1
          ],
          [
           "Duncan Robinson",
           1
          ],
          [
           "Dillon Brooks",
           1
          ],
          [
           "Jrue Holiday",
           1
          ],
          [
           "Harrison Barnes",
           1
          ],
          [
           "Ayo Dosunmu",
           1
          ],
          [
           "Aaron Nesmith",
           1
          ],
          [
           "Max Strus",
           1
          ],
          [
           "Buddy Hield",
           1
          ],
          [
           "Tyus Jones",
           1
          ],
          [
           "Jaime Jaquez Jr.",
           1
          ],
          [
           "Ivica Zubac",
           1
          ],
          [
           "Jeremy Sochan",
           1
          ],
          [
           "Mike Conley",
           1
          ],
          [
           "Malik Beasley",
           1
          ],
          [
           "Wendell Carter Jr.",
           1
          ],
          [
           "Eric Gordon",
           1
          ],
          [
           "Luke Kennard",
           1
          ],
          [
           "Luguentz Dort",
           1
          ],
          [
           "Isaiah Stewart",
           1
          ],
          [
           "Bruce Brown",
           1
          ],
          [
           "Jake LaRavia",
           1
          ],
          [
           "Santi Aldama",
           1
          ],
          [
           "Simone Fontecchio",
           1
          ],
          [
           "Spencer Dinwiddie",
           1
          ],
          [
           "Jaden McDaniels",
           1
          ],
          [
           "Grant Williams",
           1
          ],
          [
           "Kevin Huerter",
           1
          ],
          [
           "Reggie Jackson",
           1
          ],
          [
           "Onyeka Okongwu",
           1
          ],
          [
           "Kentavious Caldwell-Pope",
           1
          ],
          [
           "Tre Jones",
           1
          ],
          [
           "Caleb Martin",
           1
          ],
          [
           "Patrick Williams",
           1
          ],
          [
           "Vince Williams Jr.",
           1
          ],
          [
           "Josh Richardson",
           1
          ],
          [
           "Gordon Hayward",
           1
          ],
          [
           "Kelly Olynyk",
           1
          ],
          [
           "Nick Richards",
           1
          ],
          [
           "Payton Pritchard",
           1
          ],
          [
           "Josh Hart",
           1
          ],
          [
           "Georges Niang",
           1
          ],
          [
           "Isaac Okoro",
           1
          ],
          [
           "Tre Mann",
           1
          ],
          [
           "Malaki Branham",
           1
          ],
          [
           "Andrew Nembhard",
           1
          ],
          [
           "Chris Paul",
           1
          ],
          [
           "Brandin Podziemski",
           1
          ],
          [
           "Sam Hauser",
           1
          ],
          [
           "Taurean Prince",
           1
          ],
          [
           "Jabari Walker",
           1
          ],
          [
           "Terance Mann",
           1
          ],
          [
           "Al Horford",
           1
          ],
          [
           "Derrick Jones Jr.",
           1
          ],
          [
           "Gradey Dick",
           1
          ],
          [
           "Dorian Finney-Smith",
           1
          ],
          [
           "Bilal Coulibaly",
           1
          ],
          [
           "Miles McBride",
           1
          ],
          [
           "Marcus Sasser",
           1
          ],
          [
           "Josh Green",
           1
          ],
          [
           "Isaiah Joe",
           1
          ],
          [
           "Ziaire Williams",
           1
          ],
          [
           "Kyle Lowry",
           1
          ],
          [
           "Moses Moody",
           1
          ],
          [
           "Nickeil Alexander-Walker",
           1
          ],
          [
           "Sam Merrill",
           1
          ],
          [
           "Dario Šarić",
           1
          ],
          [
           "Dante Exum",
           1
          ],
          [
           "Markelle Fultz",
           1
          ],
          [
           "Jordan Hawkins",
           1
          ],
          [
           "Royce O'Neale",
           1
          ],
          [
           "Nikola Jović",
           1
          ],
          [
           "Toumani Camara",
           1
          ],
          [
           "Cody Martin",
           1
          ],
          [
           "Brice Sensabaugh",
           1
          ],
          [
           "Cameron Payne",
           1
          ],
          [
           "Christian Braun",
           1
          ],
          [
           "Kevin Knox",
           1
          ],
          [
           "Trey Lyles",
           1
          ],
          [
           "Naji Marshall",
           1
          ],
          [
           "Landry Shamet",
           1
          ],
          [
           "James Wiseman",
           1
          ],
          [
           "Vasilije Micić",
           1
          ],
          [
           "Quentin Grimes",
           1
          ],
          [
           "Javon Freeman-Liberty",
           1
          ],
          [
           "Evan Fournier",
           1
          ],
          [
           "Gary Harris",
           1
          ],
          [
           "Killian Hayes",
           1
          ],
          [
           "Bones Hyland",
           1
          ],
          [
           "Aaron Wiggins",
           1
          ],
          [
           "Christian Wood",
           1
          ],
          [
           "Julian Champagnie",
           1
          ],
          [
           "Cedi Osman",
           1
          ],
          [
           "Dāvis Bertāns",
           1
          ],
          [
           "Amir Coffey",
           1
          ],
          [
           "Aaron Holiday",
           1
          ],
          [
           "Chimezie Metu",
           1
          ],
          [
           "Jordan Goodwin",
           1
          ],
          [
           "David Roddy",
           1
          ],
          [
           "Jeff Green",
           1
          ],
          [
           "Marcus Morris",
           1
          ],
          [
           "Kyle Anderson",
           1
          ],
          [
           "Chris Boucher",
           1
          ],
          [
           "Jared Butler",
           1
          ],
          [
           "Patrick Beverley",
           1
          ],
          [
           "Jae Crowder",
           1
          ],
          [
           "Haywood Highsmith",
           1
          ],
          [
           "Vit Krejci",
           1
          ],
          [
           "Kris Murray",
           1
          ],
          [
           "Nick Smith Jr.",
           1
          ],
          [
           "Ochai Agbaji",
           1
          ],
          [
           "Noah Clowney",
           1
          ],
          [
           "Danilo Gallinari",
           1
          ],
          [
           "Torrey Craig",
           1
          ],
          [
           "Larry Nance Jr.",
           1
          ],
          [
           "Pat Connaughton",
           1
          ],
          [
           "Craig Porter Jr.",
           1
          ],
          [
           "Malachi Flynn",
           1
          ],
          [
           "Doug McDermott",
           1
          ],
          [
           "Cam Reddish",
           1
          ],
          [
           "Matt Ryan",
           1
          ],
          [
           "Sasha Vezenkov",
           1
          ],
          [
           "Dean Wade",
           1
          ],
          [
           "Nicolas Batum",
           1
          ],
          [
           "Davion Mitchell",
           1
          ],
          [
           "Mason Plumlee",
           1
          ],
          [
           "Stanley Umude",
           1
          ],
          [
           "Seth Curry",
           1
          ],
          [
           "Bryce McGowens",
           1
          ],
          [
           "Richaun Holmes",
           1
          ],
          [
           "Monte Morris",
           1
          ],
          [
           "Jevon Carter",
           1
          ],
          [
           "Devonte' Graham",
           1
          ],
          [
           "Isaiah Livers",
           1
          ],
          [
           "Jalen Wilson",
           1
          ],
          [
           "Garrison Mathews",
           1
          ],
          [
           "Kenrich Williams",
           1
          ],
          [
           "Anthony Black",
           1
          ],
          [
           "Omer Yurtseven",
           1
          ],
          [
           "Shake Milton",
           1
          ],
          [
           "A.J. Green",
           1
          ],
          [
           "Kevon Looney",
           1
          ],
          [
           "Julian Strawther",
           1
          ],
          [
           "Bismack Biyombo",
           1
          ],
          [
           "Dominick Barlow",
           1
          ],
          [
           "MarJon Beauchamp",
           1
          ],
          [
           "Joe Ingles",
           1
          ],
          [
           "Maxi Kleber",
           1
          ],
          [
           "Ben Sheppard",
           1
          ],
          [
           "Blake Wesley",
           1
          ],
          [
           "Caleb Houstan",
           1
          ],
          [
           "Jacob Gilyard",
           1
          ],
          [
           "Troy Brown Jr.",
           1
          ],
          [
           "Max Christie",
           1
          ],
          [
           "Danuel House Jr.",
           1
          ],
          [
           "Skylar Mays",
           1
          ],
          [
           "Jae'Sean Tate",
           1
          ],
          [
           "Patty Mills",
           1
          ],
          [
           "Ousmane Dieng",
           1
          ],
          [
           "Justin Holiday",
           1
          ],
          [
           "Rayan Rupert",
           1
          ],
          [
           "Jaylin Williams",
           1
          ],
          [
           "Chris Duarte",
           1
          ],
          [
           "DeAndre Jordan",
           1
          ],
          [
           "KJ Martin",
           1
          ],
          [
           "Oshae Brissett",
           1
          ],
          [
           "Onuralp Bitim",
           1
          ],
          [
           "Jordan McLaughlin",
           1
          ],
          [
           "Yuta Watanabe",
           1
          ],
          [
           "Jalen McDaniels",
           1
          ],
          [
           "Dwight Powell",
           1
          ],
          [
           "Tristan Thompson",
           1
          ],
          [
           "Ish Smith",
           1
          ],
          [
           "JT Thor",
           1
          ],
          [
           "Wesley Matthews",
           1
          ],
          [
           "Mike Muscala",
           1
          ],
          [
           "Johnny Davis",
           1
          ],
          [
           "Leaky Black",
           1
          ],
          [
           "Cory Joseph",
           1
          ],
          [
           "Trent Forrest",
           1
          ],
          [
           "Jericho Sims",
           1
          ],
          [
           "Justin Minaya",
           1
          ],
          [
           "P.J. Tucker",
           1
          ],
          [
           "Nathan Mensah",
           1
          ]
         ],
         "hovertemplate": "color=1<br>Avg Points per 36 Minutes=%{x}<br>Defensive Feature=%{y}<br>Player=%{customdata[0]}<br>Cluster=%{customdata[1]}<extra></extra>",
         "legendgroup": "1",
         "marker": {
          "color": "#00cc96",
          "symbol": "circle"
         },
         "mode": "markers",
         "name": "1",
         "orientation": "v",
         "showlegend": true,
         "type": "scatter",
         "x": [
          0.22597596664986566,
          0.23951913568096392,
          0.08407915865500569,
          -0.05492265861829113,
          0.06867028227703786,
          0.006963931356533516,
          0.2356974626954487,
          -0.14787293394000672,
          -0.07495157207023616,
          -0.25874653200025005,
          -0.11052082752581964,
          0.14191557912886016,
          -0.20309751998077558,
          -0.41065398511960155,
          -0.13587018423078515,
          -0.14590366208049743,
          0.001157421204095542,
          -0.40959600181825084,
          0.21203299605686263,
          -0.21313969643735117,
          -0.12687435067212222,
          0.02023375943062132,
          -0.33573732972663967,
          -0.31788825205304694,
          -0.40607892219484093,
          -0.07342180781397244,
          -0.30942248937882316,
          -0.07342180781397244,
          -0.39187850681393593,
          -0.6073909446523785,
          -0.36901722293740097,
          0.20334432385574935,
          -0.25327397855637135,
          -0.12894999765144544,
          -0.48056312906046234,
          -0.5599310810636461,
          -0.5025473918655164,
          -0.1543098343988197,
          0.1332066200613686,
          -0.2794640557520788,
          -0.8373292760188762,
          -0.5590761029350291,
          -0.5226303199341228,
          -0.5133519978881046,
          -0.5409852613729852,
          -0.3820843193165826,
          -0.268086399265418,
          -0.0460710669372323,
          -0.49585583425501667,
          -0.06782944092398399,
          -1.1023343254878741,
          -0.13007491587342349,
          -0.6658876123246437,
          -0.3773779958074003,
          -0.05789354351421424,
          -0.5015559103716792,
          -0.6369982914086326,
          -0.6551833586799746,
          -0.21636977887151027,
          -0.7678604953090705,
          -0.4382691424768988,
          -0.6126018376814794,
          -0.8284784351755318,
          -0.5157319861984624,
          -0.259728405163844,
          -0.9783886862671068,
          -0.9122625385836609,
          -0.10150583890944932,
          -0.02376619681503794,
          -0.8998911117443341,
          0.020660072112246776,
          -0.265855486228819,
          -1.0621015753557244,
          0.15678780153642258,
          -0.6828360139287031,
          0.11712854178292302,
          0.17246704376455096,
          -0.3215269070057911,
          -0.5020797119155933,
          0.07357212933688212,
          -0.8920149705682847,
          -0.31505569912060405,
          -0.9567098825910826,
          -1.120564713349544,
          -0.21119811683211903,
          0.01976149687912041,
          -0.5474585585418196,
          -0.2948018910158629,
          -0.5570788740265795,
          -0.4621053835642504,
          0.06316182756138786,
          -0.2072521088020641,
          -0.5769085039033296,
          -0.6385678007837713,
          -0.4008257249431169,
          -0.40983565549424705,
          -1.0602557321491117,
          -1.0602557321491117,
          0.22442585412972083,
          -0.0053857319778896325,
          -0.3033963676722936,
          -0.6720506674533931,
          -0.3741054710729312,
          -0.09379809448569242,
          -0.8639163047510275,
          -0.24540088786563682,
          -0.37034985935384956,
          -0.6171036995994442,
          -0.5632140081320931,
          -0.37034985935384956,
          -0.3958295484419886,
          -1.0901975958457535,
          0.09462683412136273,
          0.023566203632059878,
          -0.9040973968697052,
          -1.1928288258326873,
          -1.0103822971028171,
          -1.33462606829947,
          -1.104632524816839,
          -0.19210274930206073,
          -1.1387480170779145,
          -0.555354558385123,
          0.011063079651468818,
          -1.057626803945755,
          -1.0676669317575704,
          -1.2969663308758146,
          0.004708592875363308,
          -0.04993999339914463,
          -0.3483755354656072,
          -1.2274170937625688,
          -0.3593532120900643,
          0.016355012901078592,
          -1.2274170937625688,
          -1.6131038690315431,
          -0.6514316227211812,
          -0.5533018016691033,
          -0.18186509620244964,
          -0.5273344292114542,
          -0.6800491962152848,
          -0.5590761029350291,
          -0.6457613854198226,
          -0.5590761029350291,
          -0.5040054528858657,
          -1.354541048089606,
          -0.8022452070482166,
          -0.7884245559219967,
          -0.866367866198171,
          -1.1665173212445663,
          -0.2551118787104558,
          -0.4744827297465624,
          -0.21636977887151027,
          -1.1157571418584942,
          -0.1903216829116427,
          -1.5133076925276376,
          -0.6510744424187326,
          -0.6510744424187326,
          -1.2801686332531856,
          -1.5512954892263924,
          -0.9201136363855419,
          -0.9349434877890943,
          -0.8930330381703596,
          -1.3409324785663461,
          -0.9735011014383304,
          -0.9882678470912294,
          -1.1123085105755808,
          -0.5595140917307415,
          -1.2659569634570658,
          -0.9201136363855419,
          -0.5545778396277101,
          -1.1924255386682223,
          -1.3419405207532544,
          -0.9201136363855419,
          -0.836969223598412,
          -0.5949354401549206,
          -0.9846952473364958,
          -0.8226234828108843,
          -0.9794330419997513,
          -0.886746470727549,
          -1.3205196242814565,
          -0.8706807983737008,
          -1.3335654334108975,
          -1.010681657457237,
          -1.7643805255924314,
          -1.2645488947906296,
          -1.184729767516755,
          -1.2130360110114615,
          -1.3628389563354961,
          -1.3364379051458202,
          -1.5944816159997137,
          -1.654803522433092,
          -1.9878629374413141,
          -1.9401955579298957,
          -2.3041071571807628,
          -2.3220771495603976
         ],
         "xaxis": "x",
         "y": [
          0.330330047525224,
          0.3094765679426593,
          0.032864539828960516,
          0.4252565404224131,
          -0.9928414853021658,
          -0.4042444978691595,
          -0.39327268876512783,
          -1.0681899368617571,
          -0.28080304685232654,
          -0.38835993842003913,
          0.30293190865846287,
          -0.9933914617231477,
          -0.9828742750837248,
          -0.05057090745169829,
          -1.2116183126279063,
          -0.22869555220465232,
          0.233546369254012,
          -0.5871651277754377,
          -0.11022562899964089,
          -0.24442306013534623,
          -0.32499068529854774,
          0.18835787339746166,
          -0.42941293834766503,
          -0.21275036250329135,
          -1.2383985251567593,
          -0.47491837760567635,
          -0.1209508081254924,
          -1.4103079623536916,
          -0.0032712348735783664,
          -0.6728940372902074,
          -0.47290678710084166,
          -0.24229105479008292,
          0.3588137730263281,
          -0.6094041090674391,
          -0.840480526273982,
          -0.07257272060447549,
          -0.6513061278724451,
          -0.3737122913870383,
          -1.0226690353410006,
          0.4722094293823139,
          0.3468036120337193,
          -0.637770377252453,
          -0.43531794263094276,
          0.44950693362148303,
          0.24356927444714624,
          -0.8556255782463082,
          -0.3737122913870383,
          0.22207102979063248,
          0.19870438798852197,
          -1.2442029060486628,
          -0.8121067189340028,
          -1.244202906048663,
          -0.2522065717132916,
          0.05060755507017918,
          -1.4085513621945402,
          -0.6170975944873747,
          -0.1744599049290409,
          -0.7323263385212957,
          -0.791250128084096,
          -0.581622078384339,
          -0.7063876646789141,
          -1.0002331684001615,
          0.3264452367903844,
          0.3203617884907212,
          -1.1709191586741048,
          -0.17190485015209414,
          0.46047120714233886,
          -0.5679776491139403,
          -0.5162724434576937,
          -0.7186865724187953,
          -0.20289697404111828,
          -0.41989546085579293,
          -0.1551610869329504,
          0.20390720675431157,
          0.1278882436763785,
          -1.438102395729061,
          -0.5836846083903291,
          -1.3233828696296335,
          0.4039948548556659,
          -1.425447215748457,
          -0.012146688309290315,
          -0.5679776491139403,
          0.17080217444617926,
          0.4938531402783272,
          -0.9625477021136578,
          -0.8121067189340028,
          -0.39897585686375814,
          -0.945197119108822,
          -1.0960170618783587,
          -0.2642095658834919,
          -0.4109803553570778,
          -0.31811896744560464,
          -1.0666954618340125,
          -0.626628330156847,
          -0.7008430751240492,
          0.3777848350099179,
          -0.13817812709639082,
          0.2609214290627624,
          0.09144079562531353,
          0.21262275666133607,
          0.2196352680807811,
          0.3697667625607129,
          -0.62798212783717,
          0.21262275666133607,
          -0.6995908998752952,
          -0.7698817190538233,
          0.603006762913465,
          0.31485380151670234,
          -0.945197119108822,
          -0.8223487947977961,
          -0.8121067189340028,
          0.6458935673047769,
          0.18449810979824396,
          0.5026296109619672,
          -0.1381781270963911,
          -0.4595310164712933,
          0.4749313359886853,
          -0.7806310711574665,
          0.11562712059929212,
          -1.5280493086856095,
          0.20390720675431157,
          0.4418796129113221,
          -1.0477538597381817,
          -0.11399027520795743,
          0.5958441721711979,
          -0.7991303332242194,
          0.10693813574151455,
          0.10693813574151424,
          -1.5137978738577273,
          0.5042748169646852,
          -1.843682705215362,
          0.21512311933958086,
          0.2706555645788393,
          0.0965863177031108,
          -1.9067369445859714,
          -0.2522065717132916,
          -0.2878404606560736,
          -0.48026346094709377,
          -0.6042406960339255,
          0.22359557129248175,
          0.46047120714233825,
          -0.1209508081254924,
          -0.7720421280550459,
          -0.6546599056552949,
          -1.2888287955033002,
          -1.2556568843420197,
          -0.282818234697695,
          -0.2657010622004986,
          -0.012146688309289723,
          -0.5537694004522027,
          -1.2266314620758996,
          -0.15305140248120397,
          -0.7752728314238465,
          0.3697667625607129,
          0.48404007856906106,
          -1.0243676927411243,
          -0.5836846083903293,
          0.0623546548160901,
          -0.5233231533199094,
          -0.537277683255544,
          -1.1446030948020816,
          0.002680539783310683,
          -0.8223487947977961,
          -0.49482028366414477,
          -0.9363772394146972,
          0.40795810764771373,
          -0.12311776648661145,
          -0.3223779222467694,
          -0.8069395455252419,
          0.03860422663853586,
          -1.3502582606167817,
          0.4144212583547444,
          -0.17743382114483192,
          0.07951253989951083,
          -0.21542320248203312,
          -0.8669686209522356,
          -1.714109707827406,
          0.46047120714233886,
          -0.41989546085579293,
          -0.31555570761157026,
          -0.012146688309290018,
          -0.39474212748441784,
          -1.1405677100077523,
          -0.21542320248203312,
          0.3823865113720701,
          -0.83748531399473,
          -0.1965829401928526,
          0.5428541430467505,
          -1.2724610761802997,
          -0.7752728314238465,
          -0.32237792224676914,
          0.032864539828960225,
          -0.39746573683036285,
          0.5821479010933
         ],
         "yaxis": "y"
        },
        {
         "marker": {
          "color": "red",
          "size": 10
         },
         "mode": "markers+text",
         "name": "Centroids",
         "text": [
          "Centroid 0"
         ],
         "textposition": "top center",
         "type": "scatter",
         "x": [
          -0.3530159640422159
         ],
         "y": [
          1.6331036996025907
         ]
        },
        {
         "marker": {
          "color": "red",
          "size": 10
         },
         "mode": "markers+text",
         "name": "Centroids",
         "text": [
          "Centroid 1"
         ],
         "textposition": "top center",
         "type": "scatter",
         "x": [
          -0.5943191044495326
         ],
         "y": [
          -0.35765326734284597
         ]
        },
        {
         "marker": {
          "color": "red",
          "size": 10
         },
         "mode": "markers+text",
         "name": "Centroids",
         "text": [
          "Centroid 2"
         ],
         "textposition": "top center",
         "type": "scatter",
         "x": [
          1.1234112243393541
         ],
         "y": [
          -0.33601869119729044
         ]
        }
       ],
       "layout": {
        "height": 600,
        "legend": {
         "title": {
          "text": "color"
         },
         "tracegroupgap": 0
        },
        "template": {
         "data": {
          "bar": [
           {
            "error_x": {
             "color": "#2a3f5f"
            },
            "error_y": {
             "color": "#2a3f5f"
            },
            "marker": {
             "line": {
              "color": "#E5ECF6",
              "width": 0.5
             },
             "pattern": {
              "fillmode": "overlay",
              "size": 10,
              "solidity": 0.2
             }
            },
            "type": "bar"
           }
          ],
          "barpolar": [
           {
            "marker": {
             "line": {
              "color": "#E5ECF6",
              "width": 0.5
             },
             "pattern": {
              "fillmode": "overlay",
              "size": 10,
              "solidity": 0.2
             }
            },
            "type": "barpolar"
           }
          ],
          "carpet": [
           {
            "aaxis": {
             "endlinecolor": "#2a3f5f",
             "gridcolor": "white",
             "linecolor": "white",
             "minorgridcolor": "white",
             "startlinecolor": "#2a3f5f"
            },
            "baxis": {
             "endlinecolor": "#2a3f5f",
             "gridcolor": "white",
             "linecolor": "white",
             "minorgridcolor": "white",
             "startlinecolor": "#2a3f5f"
            },
            "type": "carpet"
           }
          ],
          "choropleth": [
           {
            "colorbar": {
             "outlinewidth": 0,
             "ticks": ""
            },
            "type": "choropleth"
           }
          ],
          "contour": [
           {
            "colorbar": {
             "outlinewidth": 0,
             "ticks": ""
            },
            "colorscale": [
             [
              0,
              "#0d0887"
             ],
             [
              0.1111111111111111,
              "#46039f"
             ],
             [
              0.2222222222222222,
              "#7201a8"
             ],
             [
              0.3333333333333333,
              "#9c179e"
             ],
             [
              0.4444444444444444,
              "#bd3786"
             ],
             [
              0.5555555555555556,
              "#d8576b"
             ],
             [
              0.6666666666666666,
              "#ed7953"
             ],
             [
              0.7777777777777778,
              "#fb9f3a"
             ],
             [
              0.8888888888888888,
              "#fdca26"
             ],
             [
              1,
              "#f0f921"
             ]
            ],
            "type": "contour"
           }
          ],
          "contourcarpet": [
           {
            "colorbar": {
             "outlinewidth": 0,
             "ticks": ""
            },
            "type": "contourcarpet"
           }
          ],
          "heatmap": [
           {
            "colorbar": {
             "outlinewidth": 0,
             "ticks": ""
            },
            "colorscale": [
             [
              0,
              "#0d0887"
             ],
             [
              0.1111111111111111,
              "#46039f"
             ],
             [
              0.2222222222222222,
              "#7201a8"
             ],
             [
              0.3333333333333333,
              "#9c179e"
             ],
             [
              0.4444444444444444,
              "#bd3786"
             ],
             [
              0.5555555555555556,
              "#d8576b"
             ],
             [
              0.6666666666666666,
              "#ed7953"
             ],
             [
              0.7777777777777778,
              "#fb9f3a"
             ],
             [
              0.8888888888888888,
              "#fdca26"
             ],
             [
              1,
              "#f0f921"
             ]
            ],
            "type": "heatmap"
           }
          ],
          "heatmapgl": [
           {
            "colorbar": {
             "outlinewidth": 0,
             "ticks": ""
            },
            "colorscale": [
             [
              0,
              "#0d0887"
             ],
             [
              0.1111111111111111,
              "#46039f"
             ],
             [
              0.2222222222222222,
              "#7201a8"
             ],
             [
              0.3333333333333333,
              "#9c179e"
             ],
             [
              0.4444444444444444,
              "#bd3786"
             ],
             [
              0.5555555555555556,
              "#d8576b"
             ],
             [
              0.6666666666666666,
              "#ed7953"
             ],
             [
              0.7777777777777778,
              "#fb9f3a"
             ],
             [
              0.8888888888888888,
              "#fdca26"
             ],
             [
              1,
              "#f0f921"
             ]
            ],
            "type": "heatmapgl"
           }
          ],
          "histogram": [
           {
            "marker": {
             "pattern": {
              "fillmode": "overlay",
              "size": 10,
              "solidity": 0.2
             }
            },
            "type": "histogram"
           }
          ],
          "histogram2d": [
           {
            "colorbar": {
             "outlinewidth": 0,
             "ticks": ""
            },
            "colorscale": [
             [
              0,
              "#0d0887"
             ],
             [
              0.1111111111111111,
              "#46039f"
             ],
             [
              0.2222222222222222,
              "#7201a8"
             ],
             [
              0.3333333333333333,
              "#9c179e"
             ],
             [
              0.4444444444444444,
              "#bd3786"
             ],
             [
              0.5555555555555556,
              "#d8576b"
             ],
             [
              0.6666666666666666,
              "#ed7953"
             ],
             [
              0.7777777777777778,
              "#fb9f3a"
             ],
             [
              0.8888888888888888,
              "#fdca26"
             ],
             [
              1,
              "#f0f921"
             ]
            ],
            "type": "histogram2d"
           }
          ],
          "histogram2dcontour": [
           {
            "colorbar": {
             "outlinewidth": 0,
             "ticks": ""
            },
            "colorscale": [
             [
              0,
              "#0d0887"
             ],
             [
              0.1111111111111111,
              "#46039f"
             ],
             [
              0.2222222222222222,
              "#7201a8"
             ],
             [
              0.3333333333333333,
              "#9c179e"
             ],
             [
              0.4444444444444444,
              "#bd3786"
             ],
             [
              0.5555555555555556,
              "#d8576b"
             ],
             [
              0.6666666666666666,
              "#ed7953"
             ],
             [
              0.7777777777777778,
              "#fb9f3a"
             ],
             [
              0.8888888888888888,
              "#fdca26"
             ],
             [
              1,
              "#f0f921"
             ]
            ],
            "type": "histogram2dcontour"
           }
          ],
          "mesh3d": [
           {
            "colorbar": {
             "outlinewidth": 0,
             "ticks": ""
            },
            "type": "mesh3d"
           }
          ],
          "parcoords": [
           {
            "line": {
             "colorbar": {
              "outlinewidth": 0,
              "ticks": ""
             }
            },
            "type": "parcoords"
           }
          ],
          "pie": [
           {
            "automargin": true,
            "type": "pie"
           }
          ],
          "scatter": [
           {
            "fillpattern": {
             "fillmode": "overlay",
             "size": 10,
             "solidity": 0.2
            },
            "type": "scatter"
           }
          ],
          "scatter3d": [
           {
            "line": {
             "colorbar": {
              "outlinewidth": 0,
              "ticks": ""
             }
            },
            "marker": {
             "colorbar": {
              "outlinewidth": 0,
              "ticks": ""
             }
            },
            "type": "scatter3d"
           }
          ],
          "scattercarpet": [
           {
            "marker": {
             "colorbar": {
              "outlinewidth": 0,
              "ticks": ""
             }
            },
            "type": "scattercarpet"
           }
          ],
          "scattergeo": [
           {
            "marker": {
             "colorbar": {
              "outlinewidth": 0,
              "ticks": ""
             }
            },
            "type": "scattergeo"
           }
          ],
          "scattergl": [
           {
            "marker": {
             "colorbar": {
              "outlinewidth": 0,
              "ticks": ""
             }
            },
            "type": "scattergl"
           }
          ],
          "scattermapbox": [
           {
            "marker": {
             "colorbar": {
              "outlinewidth": 0,
              "ticks": ""
             }
            },
            "type": "scattermapbox"
           }
          ],
          "scatterpolar": [
           {
            "marker": {
             "colorbar": {
              "outlinewidth": 0,
              "ticks": ""
             }
            },
            "type": "scatterpolar"
           }
          ],
          "scatterpolargl": [
           {
            "marker": {
             "colorbar": {
              "outlinewidth": 0,
              "ticks": ""
             }
            },
            "type": "scatterpolargl"
           }
          ],
          "scatterternary": [
           {
            "marker": {
             "colorbar": {
              "outlinewidth": 0,
              "ticks": ""
             }
            },
            "type": "scatterternary"
           }
          ],
          "surface": [
           {
            "colorbar": {
             "outlinewidth": 0,
             "ticks": ""
            },
            "colorscale": [
             [
              0,
              "#0d0887"
             ],
             [
              0.1111111111111111,
              "#46039f"
             ],
             [
              0.2222222222222222,
              "#7201a8"
             ],
             [
              0.3333333333333333,
              "#9c179e"
             ],
             [
              0.4444444444444444,
              "#bd3786"
             ],
             [
              0.5555555555555556,
              "#d8576b"
             ],
             [
              0.6666666666666666,
              "#ed7953"
             ],
             [
              0.7777777777777778,
              "#fb9f3a"
             ],
             [
              0.8888888888888888,
              "#fdca26"
             ],
             [
              1,
              "#f0f921"
             ]
            ],
            "type": "surface"
           }
          ],
          "table": [
           {
            "cells": {
             "fill": {
              "color": "#EBF0F8"
             },
             "line": {
              "color": "white"
             }
            },
            "header": {
             "fill": {
              "color": "#C8D4E3"
             },
             "line": {
              "color": "white"
             }
            },
            "type": "table"
           }
          ]
         },
         "layout": {
          "annotationdefaults": {
           "arrowcolor": "#2a3f5f",
           "arrowhead": 0,
           "arrowwidth": 1
          },
          "autotypenumbers": "strict",
          "coloraxis": {
           "colorbar": {
            "outlinewidth": 0,
            "ticks": ""
           }
          },
          "colorscale": {
           "diverging": [
            [
             0,
             "#8e0152"
            ],
            [
             0.1,
             "#c51b7d"
            ],
            [
             0.2,
             "#de77ae"
            ],
            [
             0.3,
             "#f1b6da"
            ],
            [
             0.4,
             "#fde0ef"
            ],
            [
             0.5,
             "#f7f7f7"
            ],
            [
             0.6,
             "#e6f5d0"
            ],
            [
             0.7,
             "#b8e186"
            ],
            [
             0.8,
             "#7fbc41"
            ],
            [
             0.9,
             "#4d9221"
            ],
            [
             1,
             "#276419"
            ]
           ],
           "sequential": [
            [
             0,
             "#0d0887"
            ],
            [
             0.1111111111111111,
             "#46039f"
            ],
            [
             0.2222222222222222,
             "#7201a8"
            ],
            [
             0.3333333333333333,
             "#9c179e"
            ],
            [
             0.4444444444444444,
             "#bd3786"
            ],
            [
             0.5555555555555556,
             "#d8576b"
            ],
            [
             0.6666666666666666,
             "#ed7953"
            ],
            [
             0.7777777777777778,
             "#fb9f3a"
            ],
            [
             0.8888888888888888,
             "#fdca26"
            ],
            [
             1,
             "#f0f921"
            ]
           ],
           "sequentialminus": [
            [
             0,
             "#0d0887"
            ],
            [
             0.1111111111111111,
             "#46039f"
            ],
            [
             0.2222222222222222,
             "#7201a8"
            ],
            [
             0.3333333333333333,
             "#9c179e"
            ],
            [
             0.4444444444444444,
             "#bd3786"
            ],
            [
             0.5555555555555556,
             "#d8576b"
            ],
            [
             0.6666666666666666,
             "#ed7953"
            ],
            [
             0.7777777777777778,
             "#fb9f3a"
            ],
            [
             0.8888888888888888,
             "#fdca26"
            ],
            [
             1,
             "#f0f921"
            ]
           ]
          },
          "colorway": [
           "#636efa",
           "#EF553B",
           "#00cc96",
           "#ab63fa",
           "#FFA15A",
           "#19d3f3",
           "#FF6692",
           "#B6E880",
           "#FF97FF",
           "#FECB52"
          ],
          "font": {
           "color": "#2a3f5f"
          },
          "geo": {
           "bgcolor": "white",
           "lakecolor": "white",
           "landcolor": "#E5ECF6",
           "showlakes": true,
           "showland": true,
           "subunitcolor": "white"
          },
          "hoverlabel": {
           "align": "left"
          },
          "hovermode": "closest",
          "mapbox": {
           "style": "light"
          },
          "paper_bgcolor": "white",
          "plot_bgcolor": "#E5ECF6",
          "polar": {
           "angularaxis": {
            "gridcolor": "white",
            "linecolor": "white",
            "ticks": ""
           },
           "bgcolor": "#E5ECF6",
           "radialaxis": {
            "gridcolor": "white",
            "linecolor": "white",
            "ticks": ""
           }
          },
          "scene": {
           "xaxis": {
            "backgroundcolor": "#E5ECF6",
            "gridcolor": "white",
            "gridwidth": 2,
            "linecolor": "white",
            "showbackground": true,
            "ticks": "",
            "zerolinecolor": "white"
           },
           "yaxis": {
            "backgroundcolor": "#E5ECF6",
            "gridcolor": "white",
            "gridwidth": 2,
            "linecolor": "white",
            "showbackground": true,
            "ticks": "",
            "zerolinecolor": "white"
           },
           "zaxis": {
            "backgroundcolor": "#E5ECF6",
            "gridcolor": "white",
            "gridwidth": 2,
            "linecolor": "white",
            "showbackground": true,
            "ticks": "",
            "zerolinecolor": "white"
           }
          },
          "shapedefaults": {
           "line": {
            "color": "#2a3f5f"
           }
          },
          "ternary": {
           "aaxis": {
            "gridcolor": "white",
            "linecolor": "white",
            "ticks": ""
           },
           "baxis": {
            "gridcolor": "white",
            "linecolor": "white",
            "ticks": ""
           },
           "bgcolor": "#E5ECF6",
           "caxis": {
            "gridcolor": "white",
            "linecolor": "white",
            "ticks": ""
           }
          },
          "title": {
           "x": 0.05
          },
          "xaxis": {
           "automargin": true,
           "gridcolor": "white",
           "linecolor": "white",
           "ticks": "",
           "title": {
            "standoff": 15
           },
           "zerolinecolor": "white",
           "zerolinewidth": 2
          },
          "yaxis": {
           "automargin": true,
           "gridcolor": "white",
           "linecolor": "white",
           "ticks": "",
           "title": {
            "standoff": 15
           },
           "zerolinecolor": "white",
           "zerolinewidth": 2
          }
         }
        },
        "title": {
         "text": "K-Means Clustering of Players"
        },
        "width": 600,
        "xaxis": {
         "anchor": "y",
         "domain": [
          0,
          1
         ],
         "scaleanchor": "y",
         "title": {
          "text": "Avg Points per 36 Minutes"
         }
        },
        "yaxis": {
         "anchor": "x",
         "domain": [
          0,
          1
         ],
         "title": {
          "text": "Defensive Feature"
         }
        }
       }
      }
     },
     "metadata": {},
     "output_type": "display_data"
    }
   ],
   "source": [
    "optimal_k = 3\n",
    "kmeans = KMeans(n_clusters=optimal_k, random_state=42)\n",
    "df['Cluster'] = kmeans.fit_predict(features)\n",
    "\n",
    "fig = px.scatter(\n",
    "    df,\n",
    "    x='avg36pts',\n",
    "    y='defense_features',\n",
    "    color=df['Cluster'].astype(str),\n",
    "    hover_data={\n",
    "        'Player': True, \n",
    "        'avg36pts': True,  \n",
    "        'defense_features': True,  \n",
    "        'Cluster': True,  \n",
    "    },\n",
    "    title='K-Means Clustering of Players',\n",
    "    labels={'avg36pts': 'Avg Points per 36 Minutes', 'defense_features': 'Defensive Feature', 'Cluster': 'Cluster'}\n",
    ")\n",
    "\n",
    "centroids = kmeans.cluster_centers_\n",
    "for i, (x, y) in enumerate(centroids):\n",
    "    fig.add_scatter(\n",
    "        x=[x], y=[y], mode='markers+text', \n",
    "        marker=dict(size=10, color='red'),\n",
    "        text=[f'Centroid {i}'], textposition='top center', name='Centroids'\n",
    "    )\n",
    "\n",
    "\n",
    "fig.update_layout(\n",
    "    xaxis=dict(scaleanchor=\"y\", title='Avg Points per 36 Minutes'),\n",
    "    yaxis=dict(title='Defensive Feature'),\n",
    "    width=600,  \n",
    "    height=600 \n",
    ")\n",
    "fig.show()"
   ]
  },
  {
   "cell_type": "code",
   "execution_count": null,
   "metadata": {},
   "outputs": [
    {
     "data": {
      "application/vnd.plotly.v1+json": {
       "config": {
        "plotlyServerURL": "https://plot.ly"
       },
       "data": [
        {
         "customdata": [
          [
           "Joel Embiid",
           5
          ],
          [
           "Luka Dončić",
           5
          ],
          [
           "Giannis Antetokounmpo",
           5
          ],
          [
           "Shai Gilgeous-Alexander",
           5
          ],
          [
           "De'Aaron Fox",
           5
          ],
          [
           "Donovan Mitchell",
           5
          ],
          [
           "Nikola Jokić",
           5
          ],
          [
           "Anthony Davis",
           5
          ],
          [
           "LaMelo Ball",
           5
          ],
          [
           "Kawhi Leonard",
           5
          ],
          [
           "Jaren Jackson Jr.",
           5
          ],
          [
           "Victor Wembanyama",
           5
          ],
          [
           "Kristaps Porziņģis",
           5
          ],
          [
           "Scottie Barnes",
           5
          ],
          [
           "Myles Turner",
           5
          ]
         ],
         "hovertemplate": "color=5<br>Avg Points per 36 Minutes=%{x}<br>Defensive Feature=%{y}<br>Player=%{customdata[0]}<br>Cluster=%{customdata[1]}<extra></extra>",
         "legendgroup": "5",
         "marker": {
          "color": "#636efa",
          "symbol": "circle"
         },
         "mode": "markers",
         "name": "5",
         "orientation": "v",
         "showlegend": true,
         "type": "scatter",
         "x": [
          4.111972727369862,
          3.2184826545066314,
          2.9383440651569073,
          3.088656901254734,
          2.0868349523815497,
          2.174241986787419,
          2.2399305378373215,
          1.7733215723340183,
          2.079832155280444,
          1.7399207010843052,
          1.7940255030993948,
          1.9451934105553688,
          1.6572744568723945,
          0.901790973295582,
          1.339955717515843
         ],
         "xaxis": "x",
         "y": [
          1.6007556533113474,
          -0.10625016260365883,
          0.5965278740147771,
          1.5521258754600227,
          0.6689145686460749,
          0.5876629920372533,
          0.6507932498193917,
          2.1889657637471216,
          0.4326701544687136,
          0.957891207894637,
          1.6317416436963748,
          5.207337140247418,
          1.6739495873559798,
          1.3095583717502792,
          1.7242864683129902
         ],
         "yaxis": "y"
        },
        {
         "customdata": [
          [
           "Jalen Brunson",
           2
          ],
          [
           "Devin Booker",
           2
          ],
          [
           "Kevin Durant",
           2
          ],
          [
           "Jayson Tatum",
           2
          ],
          [
           "Stephen Curry",
           2
          ],
          [
           "Anthony Edwards",
           2
          ],
          [
           "Tyrese Maxey",
           2
          ],
          [
           "LeBron James",
           2
          ],
          [
           "Trae Young",
           2
          ],
          [
           "Kyrie Irving",
           2
          ],
          [
           "Damian Lillard",
           2
          ],
          [
           "DeMar DeRozan",
           2
          ],
          [
           "Julius Randle",
           2
          ],
          [
           "Desmond Bane",
           2
          ],
          [
           "Lauri Markkanen",
           2
          ],
          [
           "Jaylen Brown",
           2
          ],
          [
           "Zion Williamson",
           2
          ],
          [
           "Cade Cunningham",
           2
          ],
          [
           "Paolo Banchero",
           2
          ],
          [
           "Paul George",
           2
          ],
          [
           "Anfernee Simons",
           2
          ],
          [
           "Dejounte Murray",
           2
          ],
          [
           "Cam Thomas",
           2
          ],
          [
           "Kyle Kuzma",
           2
          ],
          [
           "Karl-Anthony Towns",
           2
          ],
          [
           "Pascal Siakam",
           2
          ],
          [
           "Jamal Murray",
           2
          ],
          [
           "Alperen Sengun",
           2
          ],
          [
           "Miles Bridges",
           2
          ],
          [
           "Jerami Grant",
           2
          ],
          [
           "Jimmy Butler",
           2
          ],
          [
           "Tyler Herro",
           2
          ],
          [
           "Brandon Ingram",
           2
          ],
          [
           "RJ Barrett",
           2
          ],
          [
           "Tyrese Haliburton",
           2
          ],
          [
           "CJ McCollum",
           2
          ],
          [
           "Terry Rozier",
           2
          ],
          [
           "Franz Wagner",
           2
          ],
          [
           "Mikal Bridges",
           2
          ],
          [
           "Jalen Green",
           2
          ],
          [
           "Zach LaVine",
           2
          ],
          [
           "Devin Vassell",
           2
          ],
          [
           "Domantas Sabonis",
           2
          ],
          [
           "Coby White",
           2
          ],
          [
           "Jalen Williams",
           2
          ],
          [
           "Collin Sexton",
           2
          ],
          [
           "Bradley Beal",
           2
          ],
          [
           "Darius Garland",
           2
          ],
          [
           "D'Angelo Russell",
           2
          ],
          [
           "Klay Thompson",
           2
          ],
          [
           "Jordan Poole",
           2
          ],
          [
           "Jordan Clarkson",
           2
          ],
          [
           "Immanuel Quickley",
           2
          ],
          [
           "Michael Porter Jr.",
           2
          ],
          [
           "Jonathan Kuminga",
           2
          ],
          [
           "Malcolm Brogdon",
           2
          ],
          [
           "Keldon Johnson",
           2
          ],
          [
           "De'Andre Hunter",
           2
          ],
          [
           "Jaden Ivey",
           2
          ],
          [
           "Malik Monk",
           2
          ],
          [
           "Bojan Bogdanović",
           2
          ],
          [
           "Khris Middleton",
           2
          ],
          [
           "GG Jackson II",
           2
          ],
          [
           "Bennedict Mathurin",
           2
          ],
          [
           "Tim Hardaway Jr.",
           2
          ],
          [
           "Norman Powell",
           2
          ],
          [
           "Bobby Portis",
           2
          ],
          [
           "Rui Hachimura",
           2
          ],
          [
           "Corey Kispert",
           2
          ],
          [
           "Cam Whitmore",
           2
          ],
          [
           "Moritz Wagner",
           2
          ],
          [
           "Alec Burks",
           2
          ],
          [
           "Jalen Smith",
           2
          ],
          [
           "Kevin Love",
           2
          ],
          [
           "Jaden Hardy",
           2
          ]
         ],
         "hovertemplate": "color=2<br>Avg Points per 36 Minutes=%{x}<br>Defensive Feature=%{y}<br>Player=%{customdata[0]}<br>Cluster=%{customdata[1]}<extra></extra>",
         "legendgroup": "2",
         "marker": {
          "color": "#EF553B",
          "symbol": "circle"
         },
         "mode": "markers",
         "name": "2",
         "orientation": "v",
         "showlegend": true,
         "type": "scatter",
         "x": [
          2.571185278789759,
          2.168944410974422,
          2.0004103255075982,
          2.173966621155624,
          2.5476226257588923,
          2.0656297795296723,
          1.7378702903759602,
          1.9972920317965899,
          1.899041115429768,
          2.0207730099509287,
          1.7220365462553002,
          1.3509721785584825,
          1.6497236644605546,
          1.7259801983529641,
          1.808937447279664,
          1.7094182244234493,
          1.989926919031539,
          1.6472656531679641,
          1.425884113648427,
          1.58499049301454,
          1.504049747697477,
          1.3185708225507198,
          1.9175831525668212,
          1.6706523057467153,
          1.5713013994112595,
          1.4807142348136568,
          1.6153672435818156,
          1.4502898119582728,
          0.8413872158909603,
          1.2437322923027048,
          1.1902614527599846,
          1.2536327018832243,
          1.3322207555071817,
          1.366958210355371,
          1.2767308106624369,
          1.1892626586665336,
          1.058739110181893,
          1.151320007662656,
          0.853332041804793,
          1.2355947316765858,
          0.82224518009372,
          1.033125643944579,
          0.7159056008063553,
          0.576198055367959,
          1.1795658997161445,
          1.8235203759137824,
          0.7376232664548016,
          0.6847071693928949,
          0.764775168950172,
          1.1273046361776307,
          0.9564291551709477,
          0.8228300756319687,
          0.9850143973475315,
          0.6006712513957867,
          1.1930556077191328,
          0.741036408636766,
          0.6380764453246616,
          0.6145497658098736,
          0.6555580752418999,
          1.0552225705676372,
          1.0175009253758982,
          0.8258542021926931,
          0.8871663089812319,
          0.800149126426535,
          0.6735420368320285,
          0.6264926985406627,
          0.8536576514907822,
          0.453273940437124,
          0.5490762933617419,
          1.5094442652146254,
          1.2184012066894374,
          0.867205845816512,
          0.9391358733016901,
          0.5798199055737574,
          0.6973288233619055
         ],
         "xaxis": "x",
         "y": [
          -1.0446076275256537,
          -0.8033440540283128,
          0.17080217444617926,
          -0.3863576830272928,
          -0.9217313841428019,
          -0.07677819537959824,
          -0.6170975944873747,
          -0.09069319406895623,
          -0.537277683255544,
          -0.06976106032625035,
          -0.9047206173964073,
          -0.3789048435098477,
          -1.4504715829417418,
          -0.44446383298597336,
          -0.5071342122465449,
          -0.10243786833586971,
          0.20390720675431215,
          -0.6742820085042085,
          -0.48026346094709377,
          0.301067538262204,
          -1.6974508116251752,
          -0.2522065717132919,
          -1.1600763536949867,
          -0.7698817190538236,
          -0.4823557259859363,
          -0.9459940961896166,
          0.05186928059844364,
          0.2670614222344418,
          -0.7400287946732953,
          -0.5549369556519667,
          -0.279036793976092,
          -1.3890871837146321,
          -0.49482028366414477,
          -1.1730671970106616,
          0.2931468590631905,
          -0.33589717326698065,
          -0.6687176568408937,
          -0.32237792224676914,
          -0.606087951558846,
          -0.870909804334962,
          -1.0232871714149712,
          -0.5071342122465445,
          -0.5205087943412939,
          -1.3518781471968293,
          0.0683845824811901,
          -0.7323263385212957,
          -0.3754805658937251,
          -0.5253285947477848,
          -0.48235572598593596,
          -0.7589996588995178,
          -0.30524305758161796,
          -1.437208054986968,
          -1.2206673342129981,
          -0.7198311079971126,
          -0.3475915824194448,
          -1.0309374129994442,
          -0.9093196423869582,
          -0.9093196423869582,
          -0.537277683255544,
          -0.5065777173971477,
          -1.423309516427409,
          -0.40424449786915984,
          -0.4829256036229747,
          -1.0648230735808615,
          -1.4605677012356746,
          -0.8876322554563272,
          -0.18704746050363374,
          -0.7524056967985822,
          -1.2333815602773228,
          0.02829120648871093,
          -0.3681677018321739,
          -0.9710815486459274,
          -0.026801506772906252,
          -1.1074199063400485,
          -1.1137548199298763
         ],
         "yaxis": "y"
        },
        {
         "customdata": [
          [
           "Bam Adebayo",
           0
          ],
          [
           "Nikola Vučević",
           0
          ],
          [
           "Fred VanVleet",
           0
          ],
          [
           "Brandon Miller",
           0
          ],
          [
           "Tobias Harris",
           0
          ],
          [
           "Bogdan Bogdanović",
           0
          ],
          [
           "Deandre Ayton",
           0
          ],
          [
           "James Harden",
           0
          ],
          [
           "Jarrett Allen",
           0
          ],
          [
           "Jalen Johnson",
           0
          ],
          [
           "Shaedon Sharpe",
           0
          ],
          [
           "Evan Mobley",
           0
          ],
          [
           "Donte DiVincenzo",
           0
          ],
          [
           "Kelly Oubre Jr.",
           0
          ],
          [
           "Keegan Murray",
           0
          ],
          [
           "Derrick White",
           0
          ],
          [
           "John Collins",
           0
          ],
          [
           "Trey Murphy III",
           0
          ],
          [
           "OG Anunoby",
           0
          ],
          [
           "Deni Avdija",
           0
          ],
          [
           "Caris LeVert",
           0
          ],
          [
           "Aaron Gordon",
           0
          ],
          [
           "Jalen Duren",
           0
          ],
          [
           "Jabari Smith Jr.",
           0
          ],
          [
           "Gary Trent Jr.",
           0
          ],
          [
           "Naz Reid",
           0
          ],
          [
           "Cameron Johnson",
           0
          ],
          [
           "Andrew Wiggins",
           0
          ],
          [
           "P.J. Washington",
           0
          ],
          [
           "Jalen Suggs",
           0
          ],
          [
           "Josh Giddey",
           0
          ],
          [
           "Ayo Dosunmu",
           0
          ],
          [
           "Aaron Nesmith",
           0
          ],
          [
           "Jonas Valančiūnas",
           0
          ],
          [
           "Buddy Hield",
           0
          ],
          [
           "Tyus Jones",
           0
          ],
          [
           "Jaime Jaquez Jr.",
           0
          ],
          [
           "Marvin Bagley III",
           0
          ],
          [
           "Ivica Zubac",
           0
          ],
          [
           "Cole Anthony",
           0
          ],
          [
           "Mike Conley",
           0
          ],
          [
           "Zach Collins",
           0
          ],
          [
           "Russell Westbrook",
           0
          ],
          [
           "Eric Gordon",
           0
          ],
          [
           "Jake LaRavia",
           0
          ],
          [
           "Santi Aldama",
           0
          ],
          [
           "Dalano Banton",
           0
          ],
          [
           "Obi Toppin",
           0
          ],
          [
           "Kevin Huerter",
           0
          ],
          [
           "T.J. McConnell",
           0
          ],
          [
           "Onyeka Okongwu",
           0
          ],
          [
           "Talen Horton-Tucker",
           0
          ],
          [
           "Kelly Olynyk",
           0
          ],
          [
           "Lonnie Walker IV",
           0
          ],
          [
           "Duop Reath",
           0
          ],
          [
           "Isaiah Joe",
           0
          ],
          [
           "Moses Moody",
           0
          ],
          [
           "Dario Šarić",
           0
          ],
          [
           "Landry Shamet",
           0
          ],
          [
           "James Wiseman",
           0
          ],
          [
           "Jordan Nwora",
           0
          ],
          [
           "Bones Hyland",
           0
          ],
          [
           "Trendon Watford",
           0
          ],
          [
           "Aaron Wiggins",
           0
          ],
          [
           "Christian Wood",
           0
          ],
          [
           "Day'Ron Sharpe",
           0
          ],
          [
           "Dāvis Bertāns",
           0
          ],
          [
           "Chris Boucher",
           0
          ],
          [
           "Jared Butler",
           0
          ],
          [
           "Thomas Bryant",
           0
          ],
          [
           "Craig Porter Jr.",
           0
          ],
          [
           "Malachi Flynn",
           0
          ],
          [
           "Sasha Vezenkov",
           0
          ],
          [
           "Stanley Umude",
           0
          ],
          [
           "Bol Bol",
           0
          ],
          [
           "Brandon Boston Jr.",
           0
          ],
          [
           "Omer Yurtseven",
           0
          ]
         ],
         "hovertemplate": "color=0<br>Avg Points per 36 Minutes=%{x}<br>Defensive Feature=%{y}<br>Player=%{customdata[0]}<br>Cluster=%{customdata[1]}<extra></extra>",
         "legendgroup": "0",
         "marker": {
          "color": "#00cc96",
          "symbol": "circle"
         },
         "mode": "markers",
         "name": "0",
         "orientation": "v",
         "showlegend": true,
         "type": "scatter",
         "x": [
          0.8840686384866385,
          0.5865646776406794,
          0.22597596664986566,
          0.6732203361526525,
          0.47617391114893015,
          0.8026858115350375,
          0.5216774722931633,
          0.30328425082996435,
          0.556883425169525,
          0.23951913568096392,
          0.27828172718611754,
          0.5052967867559055,
          0.6411486577698914,
          0.4835170673202251,
          0.08407915865500569,
          0.18038871071488582,
          0.6872304007394868,
          0.4145729899341735,
          -0.05492265861829113,
          0.3338710078776324,
          0.31817895581108296,
          0.006963931356533516,
          0.2356974626954487,
          -0.07495157207023616,
          0.3281270945639996,
          0.8160820246286996,
          0.313987910849209,
          0.33745776263570065,
          -0.11052082752581964,
          0.1832273080387563,
          0.34544579414869,
          -0.14590366208049743,
          0.001157421204095542,
          0.5474737008102643,
          0.21203299605686263,
          -0.21313969643735117,
          -0.12687435067212222,
          0.7928396262086708,
          0.02023375943062132,
          0.5385081766638613,
          -0.31788825205304694,
          0.4616795767454574,
          0.36830385355508966,
          -0.30942248937882316,
          0.20334432385574935,
          -0.25327397855637135,
          0.6292236226206438,
          0.33234111248319576,
          -0.1543098343988197,
          0.8340459296346554,
          -0.2794640557520788,
          0.4846777420236932,
          -0.0460710669372323,
          0.8134448552711002,
          0.4727325189022957,
          0.020660072112246776,
          0.15678780153642258,
          0.17246704376455096,
          0.06316182756138786,
          -0.2072521088020641,
          0.49056244749106237,
          0.22442585412972083,
          0.46560512564639805,
          -0.0053857319778896325,
          -0.3033963676722936,
          0.06985260300391541,
          -0.09379809448569242,
          0.09462683412136273,
          0.023566203632059878,
          0.3547422101336353,
          0.004708592875363308,
          -0.04993999339914463,
          0.016355012901078592,
          -0.18186509620244964,
          0.25539018129053775,
          0.2860476111033859,
          -0.2551118787104558
         ],
         "xaxis": "x",
         "y": [
          0.2843978735427125,
          -0.43837546088374185,
          0.330330047525224,
          -0.30178415632933586,
          -0.12400891208482312,
          -0.1696859867931663,
          0.12788824367637788,
          0.12013120662760945,
          0.18664107002998637,
          0.3094765679426593,
          -0.6518228730897421,
          1.066946022874385,
          0.2650358574767743,
          0.32171142768303046,
          0.032864539828960516,
          0.6991964017774154,
          0.032864539828960516,
          -0.267615820985846,
          0.4252565404224131,
          -0.4643525151865958,
          0.12788824367637788,
          -0.4042444978691595,
          -0.39327268876512783,
          -0.28080304685232654,
          -0.4875677741254002,
          0.8315348440671719,
          -0.6240384563336209,
          -0.40424449786915984,
          0.30293190865846287,
          1.0147761462522735,
          -0.2431206398713079,
          -0.22869555220465232,
          0.233546369254012,
          -0.08722924758671176,
          -0.11022562899964089,
          -0.24442306013534623,
          -0.32499068529854774,
          -0.03603890419310071,
          0.18835787339746166,
          0.24666787348564984,
          -0.21275036250329135,
          0.2843978735427125,
          0.4471678886037007,
          -0.1209508081254924,
          -0.24229105479008292,
          0.3588137730263281,
          -0.0641184156441768,
          -0.03603890419310071,
          -0.3737122913870383,
          0.3617927454546365,
          0.4722094293823139,
          0.6116452814450479,
          0.22207102979063248,
          -0.05560580513242793,
          0.41030506181507115,
          -0.20289697404111828,
          0.20390720675431157,
          -0.5836846083903291,
          -0.4109803553570778,
          -0.31811896744560464,
          0.2638345645091796,
          0.09144079562531353,
          -0.06774879365654021,
          0.21262275666133607,
          0.2196352680807811,
          0.9560418480684397,
          0.21262275666133607,
          0.18449810979824396,
          0.5026296109619672,
          0.3572558046873856,
          0.10693813574151455,
          0.10693813574151424,
          0.21512311933958086,
          -0.2878404606560736,
          0.9822298012036167,
          0.1278882436763773,
          -0.012146688309289723
         ],
         "yaxis": "y"
        },
        {
         "customdata": [
          [
           "Chet Holmgren",
           4
          ],
          [
           "Rudy Gobert",
           4
          ],
          [
           "Brook Lopez",
           4
          ],
          [
           "Nic Claxton",
           4
          ],
          [
           "Clint Capela",
           4
          ],
          [
           "De'Anthony Melton",
           4
          ],
          [
           "Jakob Poeltl",
           4
          ],
          [
           "Daniel Gafford",
           4
          ],
          [
           "Jusuf Nurkić",
           4
          ],
          [
           "Alex Caruso",
           4
          ],
          [
           "Tari Eason",
           4
          ],
          [
           "Amen Thompson",
           4
          ],
          [
           "Dereck Lively II",
           4
          ],
          [
           "Ausar Thompson",
           4
          ],
          [
           "Andre Drummond",
           4
          ],
          [
           "Walker Kessler",
           4
          ],
          [
           "Trayce Jackson-Davis",
           4
          ],
          [
           "Isaiah Hartenstein",
           4
          ],
          [
           "Paul Reed",
           4
          ],
          [
           "Lamar Stevens",
           4
          ],
          [
           "Jose Alvarado",
           4
          ],
          [
           "Jonathan Isaac",
           4
          ],
          [
           "Peyton Watson",
           4
          ],
          [
           "Isaiah Jackson",
           4
          ],
          [
           "Bruno Fernando",
           4
          ],
          [
           "Daniel Theis",
           4
          ],
          [
           "Dyson Daniels",
           4
          ],
          [
           "Mitchell Robinson",
           4
          ],
          [
           "Gary Payton II",
           4
          ],
          [
           "Neemias Queta",
           4
          ],
          [
           "Keon Ellis",
           4
          ],
          [
           "Matisse Thybulle",
           4
          ],
          [
           "Xavier Tillman Sr.",
           4
          ],
          [
           "Luke Kornet",
           4
          ],
          [
           "Drew Eubanks",
           4
          ],
          [
           "Goga Bitadze",
           4
          ],
          [
           "Delon Wright",
           4
          ],
          [
           "Robert Covington",
           4
          ],
          [
           "Mo Bamba",
           4
          ],
          [
           "Jontay Porter",
           4
          ],
          [
           "John Konchar",
           4
          ]
         ],
         "hovertemplate": "color=4<br>Avg Points per 36 Minutes=%{x}<br>Defensive Feature=%{y}<br>Player=%{customdata[0]}<br>Cluster=%{customdata[1]}<extra></extra>",
         "legendgroup": "4",
         "marker": {
          "color": "#ab63fa",
          "symbol": "circle"
         },
         "mode": "markers",
         "name": "4",
         "orientation": "v",
         "showlegend": true,
         "type": "scatter",
         "x": [
          0.8394936301502461,
          -0.20619328260045086,
          -0.2111981168321194,
          -0.3074118562495114,
          0.03796374033698251,
          -0.1917419012787235,
          -0.1375019327707996,
          0.060472456420779315,
          -0.2845485762332964,
          -0.6131822170925063,
          0.0643708109181744,
          -0.11215155366699998,
          -0.4566650035868659,
          -0.6223349468480756,
          0.35369254733011596,
          -0.6428654273131207,
          0.24733514760013686,
          -0.9158932834169423,
          -0.4440295408117053,
          0.34375288323149505,
          -0.37753450785991827,
          -0.06861735832840718,
          -0.5555863212401574,
          0.38808302635836217,
          -0.17901132545538423,
          -0.4683735474773302,
          -1.2504934649633372,
          -1.4884318127539369,
          -0.5929001409007085,
          0.15212200627130534,
          -0.876658722970481,
          -1.4190183316386755,
          -1.0120587150875668,
          -0.6976658653322562,
          -0.7866449737535706,
          -0.8022452070482166,
          -1.0789244501501662,
          -1.2378961664616646,
          -0.7065637761743873,
          -0.8427404986278774,
          -1.6545045875811788
         ],
         "xaxis": "x",
         "y": [
          2.19126009864887,
          1.3997011010359466,
          2.0208850455678804,
          1.806427763987805,
          1.365406247270651,
          1.0279640704541462,
          1.4582200975402217,
          3.3315445448178798,
          1.3266488152899518,
          1.9727386891042875,
          2.5200446047526466,
          1.529487875425785,
          1.7469304147617364,
          1.2833159095820272,
          1.6682724955187234,
          3.428024773862222,
          1.794810084662399,
          1.8210378758667243,
          1.9108072230815296,
          1.3767712085281498,
          1.1111770052279148,
          3.2263826881187483,
          1.5869618898496258,
          3.3166226109530723,
          1.24816769956172,
          1.1512204389562584,
          1.332942209956631,
          1.9088163706231367,
          1.4839684560021027,
          2.6991178771947317,
          1.3654062472706516,
          2.695603000915762,
          1.9903528390857597,
          1.7652197561241858,
          1.1512204389562577,
          2.753997877277732,
          1.4077011663808356,
          2.8835756552514824,
          2.993218390460042,
          3.0199140129456032,
          1.51443130263306
         ],
         "yaxis": "y"
        },
        {
         "customdata": [
          [
           "Austin Reaves",
           3
          ],
          [
           "Dennis Schröder",
           3
          ],
          [
           "Scoot Henderson",
           3
          ],
          [
           "Saddiq Bey",
           3
          ],
          [
           "Grayson Allen",
           3
          ],
          [
           "Keyonte George",
           3
          ],
          [
           "Duncan Robinson",
           3
          ],
          [
           "Dillon Brooks",
           3
          ],
          [
           "Harrison Barnes",
           3
          ],
          [
           "Max Strus",
           3
          ],
          [
           "Jeremy Sochan",
           3
          ],
          [
           "Malik Beasley",
           3
          ],
          [
           "Wendell Carter Jr.",
           3
          ],
          [
           "Luke Kennard",
           3
          ],
          [
           "Isaiah Stewart",
           3
          ],
          [
           "Bruce Brown",
           3
          ],
          [
           "Simone Fontecchio",
           3
          ],
          [
           "Spencer Dinwiddie",
           3
          ],
          [
           "Grant Williams",
           3
          ],
          [
           "Reggie Jackson",
           3
          ],
          [
           "Tre Jones",
           3
          ],
          [
           "Caleb Martin",
           3
          ],
          [
           "Josh Richardson",
           3
          ],
          [
           "Gordon Hayward",
           3
          ],
          [
           "Payton Pritchard",
           3
          ],
          [
           "Josh Hart",
           3
          ],
          [
           "Georges Niang",
           3
          ],
          [
           "Malaki Branham",
           3
          ],
          [
           "Andrew Nembhard",
           3
          ],
          [
           "Brandin Podziemski",
           3
          ],
          [
           "Sam Hauser",
           3
          ],
          [
           "Taurean Prince",
           3
          ],
          [
           "Jabari Walker",
           3
          ],
          [
           "Terance Mann",
           3
          ],
          [
           "Gradey Dick",
           3
          ],
          [
           "Miles McBride",
           3
          ],
          [
           "Marcus Sasser",
           3
          ],
          [
           "Josh Green",
           3
          ],
          [
           "Ziaire Williams",
           3
          ],
          [
           "Sam Merrill",
           3
          ],
          [
           "Derrick Rose",
           3
          ],
          [
           "Dante Exum",
           3
          ],
          [
           "Jordan Hawkins",
           3
          ],
          [
           "Nikola Jović",
           3
          ],
          [
           "Brice Sensabaugh",
           3
          ],
          [
           "Cameron Payne",
           3
          ],
          [
           "Christian Braun",
           3
          ],
          [
           "Kevin Knox",
           3
          ],
          [
           "Trey Lyles",
           3
          ],
          [
           "Naji Marshall",
           3
          ],
          [
           "Vasilije Micić",
           3
          ],
          [
           "Quentin Grimes",
           3
          ],
          [
           "Javon Freeman-Liberty",
           3
          ],
          [
           "Cedi Osman",
           3
          ],
          [
           "Amir Coffey",
           3
          ],
          [
           "Aaron Holiday",
           3
          ],
          [
           "David Roddy",
           3
          ],
          [
           "Jeff Green",
           3
          ],
          [
           "Marcus Morris",
           3
          ],
          [
           "Vit Krejci",
           3
          ],
          [
           "Nick Smith Jr.",
           3
          ],
          [
           "Danilo Gallinari",
           3
          ],
          [
           "Pat Connaughton",
           3
          ],
          [
           "Doug McDermott",
           3
          ],
          [
           "Matt Ryan",
           3
          ],
          [
           "Davion Mitchell",
           3
          ],
          [
           "Seth Curry",
           3
          ],
          [
           "Bryce McGowens",
           3
          ],
          [
           "Devonte' Graham",
           3
          ],
          [
           "Isaiah Livers",
           3
          ],
          [
           "Jalen Wilson",
           3
          ],
          [
           "Garrison Mathews",
           3
          ],
          [
           "Shake Milton",
           3
          ],
          [
           "A.J. Green",
           3
          ],
          [
           "Julian Strawther",
           3
          ],
          [
           "MarJon Beauchamp",
           3
          ],
          [
           "Joe Ingles",
           3
          ],
          [
           "Ben Sheppard",
           3
          ],
          [
           "Blake Wesley",
           3
          ],
          [
           "Caleb Houstan",
           3
          ],
          [
           "Troy Brown Jr.",
           3
          ],
          [
           "Max Christie",
           3
          ],
          [
           "Danuel House Jr.",
           3
          ],
          [
           "Ousmane Dieng",
           3
          ],
          [
           "Rayan Rupert",
           3
          ],
          [
           "Oshae Brissett",
           3
          ],
          [
           "Onuralp Bitim",
           3
          ],
          [
           "Ish Smith",
           3
          ],
          [
           "Mike Muscala",
           3
          ],
          [
           "Cory Joseph",
           3
          ],
          [
           "Trent Forrest",
           3
          ]
         ],
         "hovertemplate": "color=3<br>Avg Points per 36 Minutes=%{x}<br>Defensive Feature=%{y}<br>Player=%{customdata[0]}<br>Cluster=%{customdata[1]}<extra></extra>",
         "legendgroup": "3",
         "marker": {
          "color": "#FFA15A",
          "symbol": "circle"
         },
         "mode": "markers",
         "name": "3",
         "orientation": "v",
         "showlegend": true,
         "type": "scatter",
         "x": [
          0.382141352285283,
          0.06867028227703786,
          0.3536925473301166,
          -0.14787293394000672,
          -0.25874653200025005,
          0.2860476111033859,
          0.14191557912886016,
          -0.20309751998077558,
          -0.13587018423078515,
          -0.40959600181825084,
          -0.33573732972663967,
          -0.40607892219484093,
          -0.07342180781397244,
          -0.07342180781397244,
          -0.6073909446523785,
          -0.36901722293740097,
          -0.12894999765144544,
          -0.48056312906046234,
          -0.5025473918655164,
          0.1332066200613686,
          -0.5590761029350291,
          -0.5226303199341228,
          -0.3820843193165826,
          -0.268086399265418,
          -0.06782944092398399,
          -1.1023343254878741,
          -0.13007491587342349,
          -0.05789354351421424,
          -0.5015559103716792,
          -0.6551833586799746,
          -0.21636977887151027,
          -0.7678604953090705,
          -0.4382691424768988,
          -0.6126018376814794,
          -0.259728405163844,
          -0.10150583890944932,
          -0.02376619681503794,
          -0.8998911117443341,
          -0.265855486228819,
          0.11712854178292302,
          0.28914460818364585,
          -0.3215269070057911,
          0.07357212933688212,
          -0.31505569912060405,
          -0.21119811683211903,
          0.01976149687912041,
          -0.5474585585418196,
          -0.2948018910158629,
          -0.5570788740265795,
          -0.4621053835642504,
          -0.5769085039033296,
          -0.6385678007837713,
          -0.4008257249431169,
          -0.3741054710729312,
          -0.8639163047510275,
          -0.24540088786563682,
          -0.5632140081320931,
          -0.37034985935384956,
          -0.3958295484419886,
          -1.33462606829947,
          -0.19210274930206073,
          0.011063079651468818,
          -1.2969663308758146,
          -0.3483755354656072,
          -0.3593532120900643,
          -0.6514316227211812,
          -0.5273344292114542,
          -0.6800491962152848,
          -0.5040054528858657,
          -1.354541048089606,
          -0.8022452070482166,
          -0.7884245559219967,
          -0.4744827297465624,
          -0.21636977887151027,
          -0.1903216829116427,
          -0.6510744424187326,
          -1.2801686332531856,
          -0.9201136363855419,
          -0.9349434877890943,
          -0.8930330381703596,
          -0.9735011014383304,
          -0.9882678470912294,
          -1.1123085105755808,
          -0.5545778396277101,
          -1.3419405207532544,
          -0.8226234828108843,
          -0.9794330419997513,
          -1.7643805255924314,
          -1.2130360110114615,
          -1.5944816159997137,
          -1.654803522433092
         ],
         "xaxis": "x",
         "y": [
          -0.891618410686568,
          -0.9928414853021658,
          -0.8523562802232966,
          -1.0681899368617571,
          -0.38835993842003913,
          -1.4685099809602349,
          -0.9933914617231477,
          -0.9828742750837248,
          -1.2116183126279063,
          -0.5871651277754377,
          -0.42941293834766503,
          -1.2383985251567593,
          -0.47491837760567635,
          -1.4103079623536916,
          -0.6728940372902074,
          -0.47290678710084166,
          -0.6094041090674391,
          -0.840480526273982,
          -0.6513061278724451,
          -1.0226690353410006,
          -0.637770377252453,
          -0.43531794263094276,
          -0.8556255782463082,
          -0.3737122913870383,
          -1.2442029060486628,
          -0.8121067189340028,
          -1.244202906048663,
          -1.4085513621945402,
          -0.6170975944873747,
          -0.7323263385212957,
          -0.791250128084096,
          -0.581622078384339,
          -0.7063876646789141,
          -1.0002331684001615,
          -1.1709191586741048,
          -0.5679776491139403,
          -0.5162724434576937,
          -0.7186865724187953,
          -0.41989546085579293,
          -1.438102395729061,
          -1.3787526510609873,
          -1.3233828696296335,
          -1.425447215748457,
          -0.5679776491139403,
          -0.9625477021136578,
          -0.8121067189340028,
          -0.39897585686375814,
          -0.945197119108822,
          -1.0960170618783587,
          -0.2642095658834919,
          -1.0666954618340125,
          -0.626628330156847,
          -0.7008430751240492,
          -0.62798212783717,
          -0.6995908998752952,
          -0.7698817190538233,
          -0.945197119108822,
          -0.8223487947977961,
          -0.8121067189340028,
          -0.7806310711574665,
          -1.5280493086856095,
          -1.0477538597381817,
          -0.7991303332242194,
          -1.5137978738577273,
          -1.843682705215362,
          -1.9067369445859714,
          -0.48026346094709377,
          -0.6042406960339255,
          -0.7720421280550459,
          -0.6546599056552949,
          -1.2888287955033002,
          -1.2556568843420197,
          -0.5537694004522027,
          -1.2266314620758996,
          -0.7752728314238465,
          -1.0243676927411243,
          -0.5836846083903293,
          -0.5233231533199094,
          -0.537277683255544,
          -1.1446030948020816,
          -0.8223487947977961,
          -0.49482028366414477,
          -0.9363772394146972,
          -0.8069395455252419,
          -1.3502582606167817,
          -0.8669686209522356,
          -1.714109707827406,
          -1.1405677100077523,
          -0.83748531399473,
          -1.2724610761802997,
          -0.7752728314238465
         ],
         "yaxis": "y"
        },
        {
         "customdata": [
          [
           "Jrue Holiday",
           1
          ],
          [
           "Herbert Jones",
           1
          ],
          [
           "Luguentz Dort",
           1
          ],
          [
           "Jaden McDaniels",
           1
          ],
          [
           "Kentavious Caldwell-Pope",
           1
          ],
          [
           "Patrick Williams",
           1
          ],
          [
           "Vince Williams Jr.",
           1
          ],
          [
           "Nick Richards",
           1
          ],
          [
           "Isaac Okoro",
           1
          ],
          [
           "Tre Mann",
           1
          ],
          [
           "Chris Paul",
           1
          ],
          [
           "Draymond Green",
           1
          ],
          [
           "Al Horford",
           1
          ],
          [
           "Derrick Jones Jr.",
           1
          ],
          [
           "Dorian Finney-Smith",
           1
          ],
          [
           "Bilal Coulibaly",
           1
          ],
          [
           "Kyle Lowry",
           1
          ],
          [
           "Nickeil Alexander-Walker",
           1
          ],
          [
           "Markelle Fultz",
           1
          ],
          [
           "Royce O'Neale",
           1
          ],
          [
           "Precious Achiuwa",
           1
          ],
          [
           "Toumani Camara",
           1
          ],
          [
           "Cody Martin",
           1
          ],
          [
           "Taylor Hendricks",
           1
          ],
          [
           "Evan Fournier",
           1
          ],
          [
           "Gary Harris",
           1
          ],
          [
           "Killian Hayes",
           1
          ],
          [
           "Trey Jemison",
           1
          ],
          [
           "Julian Champagnie",
           1
          ],
          [
           "Cason Wallace",
           1
          ],
          [
           "Dennis Smith Jr.",
           1
          ],
          [
           "Chimezie Metu",
           1
          ],
          [
           "Jordan Goodwin",
           1
          ],
          [
           "Kyle Anderson",
           1
          ],
          [
           "Patrick Beverley",
           1
          ],
          [
           "Jae Crowder",
           1
          ],
          [
           "Haywood Highsmith",
           1
          ],
          [
           "Kris Murray",
           1
          ],
          [
           "Ochai Agbaji",
           1
          ],
          [
           "Noah Clowney",
           1
          ],
          [
           "Torrey Craig",
           1
          ],
          [
           "Larry Nance Jr.",
           1
          ],
          [
           "Kris Dunn",
           1
          ],
          [
           "Cam Reddish",
           1
          ],
          [
           "Dean Wade",
           1
          ],
          [
           "Nicolas Batum",
           1
          ],
          [
           "Mason Plumlee",
           1
          ],
          [
           "Aleksej Pokusevski",
           1
          ],
          [
           "Jarred Vanderbilt",
           1
          ],
          [
           "Richaun Holmes",
           1
          ],
          [
           "Monte Morris",
           1
          ],
          [
           "Jevon Carter",
           1
          ],
          [
           "Jock Landale",
           1
          ],
          [
           "Kenrich Williams",
           1
          ],
          [
           "Anthony Black",
           1
          ],
          [
           "Josh Okogie",
           1
          ],
          [
           "Kevon Looney",
           1
          ],
          [
           "Bismack Biyombo",
           1
          ],
          [
           "Patrick Baldwin Jr.",
           1
          ],
          [
           "Dominick Barlow",
           1
          ],
          [
           "Maxi Kleber",
           1
          ],
          [
           "Jaxson Hayes",
           1
          ],
          [
           "Thaddeus Young",
           1
          ],
          [
           "Jacob Gilyard",
           1
          ],
          [
           "Skylar Mays",
           1
          ],
          [
           "Jae'Sean Tate",
           1
          ],
          [
           "Patty Mills",
           1
          ],
          [
           "Justin Holiday",
           1
          ],
          [
           "Jaylin Williams",
           1
          ],
          [
           "Chris Duarte",
           1
          ],
          [
           "DeAndre Jordan",
           1
          ],
          [
           "KJ Martin",
           1
          ],
          [
           "Keita Bates-Diop",
           1
          ],
          [
           "Jordan McLaughlin",
           1
          ],
          [
           "Yuta Watanabe",
           1
          ],
          [
           "Jalen McDaniels",
           1
          ],
          [
           "Dwight Powell",
           1
          ],
          [
           "Tristan Thompson",
           1
          ],
          [
           "JT Thor",
           1
          ],
          [
           "Wesley Matthews",
           1
          ],
          [
           "Dalen Terry",
           1
          ],
          [
           "Johnny Davis",
           1
          ],
          [
           "Leaky Black",
           1
          ],
          [
           "Jericho Sims",
           1
          ],
          [
           "Justin Minaya",
           1
          ],
          [
           "P.J. Tucker",
           1
          ],
          [
           "Nathan Mensah",
           1
          ]
         ],
         "hovertemplate": "color=1<br>Avg Points per 36 Minutes=%{x}<br>Defensive Feature=%{y}<br>Player=%{customdata[0]}<br>Cluster=%{customdata[1]}<extra></extra>",
         "legendgroup": "1",
         "marker": {
          "color": "#19d3f3",
          "symbol": "circle"
         },
         "mode": "markers",
         "name": "1",
         "orientation": "v",
         "showlegend": true,
         "type": "scatter",
         "x": [
          -0.41065398511960155,
          -0.5525278114319153,
          -0.39187850681393593,
          -0.5599310810636461,
          -0.8373292760188762,
          -0.5133519978881046,
          -0.5409852613729852,
          -0.49585583425501667,
          -0.6658876123246437,
          -0.3773779958074003,
          -0.6369982914086326,
          -0.8531330529244787,
          -0.8284784351755318,
          -0.5157319861984624,
          -0.9783886862671068,
          -0.9122625385836609,
          -1.0621015753557244,
          -0.6828360139287031,
          -0.5020797119155933,
          -0.8920149705682847,
          -0.6470818516406869,
          -0.9567098825910826,
          -1.120564713349544,
          -0.6881026901280962,
          -0.40983565549424705,
          -1.0602557321491117,
          -1.0602557321491117,
          -0.9947162076383469,
          -0.6720506674533931,
          -0.7646161653580026,
          -0.6319908091165236,
          -0.37034985935384956,
          -0.6171036995994442,
          -1.0901975958457535,
          -0.9040973968697052,
          -1.1928288258326873,
          -1.0103822971028171,
          -1.104632524816839,
          -1.1387480170779145,
          -0.555354558385123,
          -1.057626803945755,
          -1.0676669317575704,
          -1.0726492508220804,
          -1.2274170937625688,
          -1.2274170937625688,
          -1.6131038690315431,
          -0.5533018016691033,
          -0.5666517987946653,
          -1.2511159197128314,
          -0.5590761029350291,
          -0.6457613854198226,
          -0.5590761029350291,
          -0.5550375885980899,
          -0.866367866198171,
          -1.1665173212445663,
          -1.0602557321491122,
          -1.1157571418584942,
          -1.5133076925276376,
          -0.7065637761743873,
          -0.6510744424187326,
          -1.5512954892263924,
          -0.6681248013363795,
          -0.8639163047510275,
          -1.3409324785663461,
          -0.5595140917307415,
          -1.2659569634570658,
          -0.9201136363855419,
          -1.1924255386682223,
          -0.9201136363855419,
          -0.836969223598412,
          -0.5949354401549206,
          -0.9846952473364958,
          -1.0012625832657804,
          -0.886746470727549,
          -1.3205196242814565,
          -0.8706807983737008,
          -1.3335654334108975,
          -1.010681657457237,
          -1.2645488947906296,
          -1.184729767516755,
          -1.184729767516755,
          -1.3628389563354961,
          -1.3364379051458202,
          -1.9878629374413141,
          -1.9401955579298957,
          -2.3041071571807628,
          -2.3220771495603976
         ],
         "xaxis": "x",
         "y": [
          -0.05057090745169829,
          0.9217256122115236,
          -0.0032712348735783664,
          -0.07257272060447549,
          0.3468036120337193,
          0.44950693362148303,
          0.24356927444714624,
          0.19870438798852197,
          -0.2522065717132916,
          0.05060755507017918,
          -0.1744599049290409,
          0.8249624992065101,
          0.3264452367903844,
          0.3203617884907212,
          -0.17190485015209414,
          0.46047120714233886,
          -0.1551610869329504,
          0.1278882436763785,
          0.4039948548556659,
          -0.012146688309290315,
          0.7474948605444697,
          0.17080217444617926,
          0.4938531402783272,
          0.8241366905583897,
          0.3777848350099179,
          -0.13817812709639082,
          0.2609214290627624,
          0.8133867535276169,
          0.3697667625607129,
          0.7220170327806186,
          1.0147761462522742,
          0.603006762913465,
          0.31485380151670234,
          0.6458935673047769,
          -0.1381781270963911,
          -0.4595310164712933,
          0.4749313359886853,
          0.11562712059929212,
          0.20390720675431157,
          0.4418796129113221,
          -0.11399027520795743,
          0.5958441721711979,
          1.0147761462522742,
          0.5042748169646852,
          0.2706555645788393,
          0.0965863177031108,
          -0.2522065717132916,
          0.7701174145071992,
          0.8196608076855761,
          0.22359557129248175,
          0.46047120714233825,
          -0.1209508081254924,
          0.9886912079412179,
          -0.282818234697695,
          -0.2657010622004986,
          1.0591205413810687,
          -0.15305140248120397,
          0.3697667625607129,
          0.7828208486555011,
          0.48404007856906106,
          0.0623546548160901,
          0.9154447011637735,
          0.7080329619027154,
          0.002680539783310683,
          0.40795810764771373,
          -0.12311776648661145,
          -0.3223779222467694,
          0.03860422663853586,
          0.4144212583547444,
          -0.17743382114483192,
          0.07951253989951083,
          -0.21542320248203312,
          0.9154447011637735,
          0.46047120714233886,
          -0.41989546085579293,
          -0.31555570761157026,
          -0.012146688309290018,
          -0.39474212748441784,
          -0.21542320248203312,
          0.3823865113720701,
          0.7988382221468385,
          -0.1965829401928526,
          0.5428541430467505,
          -0.32237792224676914,
          0.032864539828960225,
          -0.39746573683036285,
          0.5821479010933
         ],
         "yaxis": "y"
        },
        {
         "marker": {
          "color": "red",
          "size": 10
         },
         "mode": "markers+text",
         "name": "Centroids",
         "text": [
          "Centroid 0"
         ],
         "textposition": "top center",
         "type": "scatter",
         "x": [
          0.23365084802996844
         ],
         "y": [
          0.07513023303260084
         ]
        },
        {
         "marker": {
          "color": "red",
          "size": 10
         },
         "mode": "markers+text",
         "name": "Centroids",
         "text": [
          "Centroid 1"
         ],
         "textposition": "top center",
         "type": "scatter",
         "x": [
          -0.945349456719815
         ],
         "y": [
          0.25431121866115075
         ]
        },
        {
         "marker": {
          "color": "red",
          "size": 10
         },
         "mode": "markers+text",
         "name": "Centroids",
         "text": [
          "Centroid 2"
         ],
         "textposition": "top center",
         "type": "scatter",
         "x": [
          1.2606004731787195
         ],
         "y": [
          -0.6204475322953046
         ]
        },
        {
         "marker": {
          "color": "red",
          "size": 10
         },
         "mode": "markers+text",
         "name": "Centroids",
         "text": [
          "Centroid 3"
         ],
         "textposition": "top center",
         "type": "scatter",
         "x": [
          -0.4903980791596793
         ],
         "y": [
          -0.8971405088631449
         ]
        },
        {
         "marker": {
          "color": "red",
          "size": 10
         },
         "mode": "markers+text",
         "name": "Centroids",
         "text": [
          "Centroid 4"
         ],
         "textposition": "top center",
         "type": "scatter",
         "x": [
          -0.45742197960704245
         ],
         "y": [
          1.941129679841583
         ]
        },
        {
         "marker": {
          "color": "red",
          "size": 10
         },
         "mode": "markers+text",
         "name": "Centroids",
         "text": [
          "Centroid 5"
         ],
         "textposition": "top center",
         "type": "scatter",
         "x": [
          2.2059852210221185
         ],
         "y": [
          1.378462025877248
         ]
        }
       ],
       "layout": {
        "height": 600,
        "legend": {
         "title": {
          "text": "color"
         },
         "tracegroupgap": 0
        },
        "template": {
         "data": {
          "bar": [
           {
            "error_x": {
             "color": "#2a3f5f"
            },
            "error_y": {
             "color": "#2a3f5f"
            },
            "marker": {
             "line": {
              "color": "#E5ECF6",
              "width": 0.5
             },
             "pattern": {
              "fillmode": "overlay",
              "size": 10,
              "solidity": 0.2
             }
            },
            "type": "bar"
           }
          ],
          "barpolar": [
           {
            "marker": {
             "line": {
              "color": "#E5ECF6",
              "width": 0.5
             },
             "pattern": {
              "fillmode": "overlay",
              "size": 10,
              "solidity": 0.2
             }
            },
            "type": "barpolar"
           }
          ],
          "carpet": [
           {
            "aaxis": {
             "endlinecolor": "#2a3f5f",
             "gridcolor": "white",
             "linecolor": "white",
             "minorgridcolor": "white",
             "startlinecolor": "#2a3f5f"
            },
            "baxis": {
             "endlinecolor": "#2a3f5f",
             "gridcolor": "white",
             "linecolor": "white",
             "minorgridcolor": "white",
             "startlinecolor": "#2a3f5f"
            },
            "type": "carpet"
           }
          ],
          "choropleth": [
           {
            "colorbar": {
             "outlinewidth": 0,
             "ticks": ""
            },
            "type": "choropleth"
           }
          ],
          "contour": [
           {
            "colorbar": {
             "outlinewidth": 0,
             "ticks": ""
            },
            "colorscale": [
             [
              0,
              "#0d0887"
             ],
             [
              0.1111111111111111,
              "#46039f"
             ],
             [
              0.2222222222222222,
              "#7201a8"
             ],
             [
              0.3333333333333333,
              "#9c179e"
             ],
             [
              0.4444444444444444,
              "#bd3786"
             ],
             [
              0.5555555555555556,
              "#d8576b"
             ],
             [
              0.6666666666666666,
              "#ed7953"
             ],
             [
              0.7777777777777778,
              "#fb9f3a"
             ],
             [
              0.8888888888888888,
              "#fdca26"
             ],
             [
              1,
              "#f0f921"
             ]
            ],
            "type": "contour"
           }
          ],
          "contourcarpet": [
           {
            "colorbar": {
             "outlinewidth": 0,
             "ticks": ""
            },
            "type": "contourcarpet"
           }
          ],
          "heatmap": [
           {
            "colorbar": {
             "outlinewidth": 0,
             "ticks": ""
            },
            "colorscale": [
             [
              0,
              "#0d0887"
             ],
             [
              0.1111111111111111,
              "#46039f"
             ],
             [
              0.2222222222222222,
              "#7201a8"
             ],
             [
              0.3333333333333333,
              "#9c179e"
             ],
             [
              0.4444444444444444,
              "#bd3786"
             ],
             [
              0.5555555555555556,
              "#d8576b"
             ],
             [
              0.6666666666666666,
              "#ed7953"
             ],
             [
              0.7777777777777778,
              "#fb9f3a"
             ],
             [
              0.8888888888888888,
              "#fdca26"
             ],
             [
              1,
              "#f0f921"
             ]
            ],
            "type": "heatmap"
           }
          ],
          "heatmapgl": [
           {
            "colorbar": {
             "outlinewidth": 0,
             "ticks": ""
            },
            "colorscale": [
             [
              0,
              "#0d0887"
             ],
             [
              0.1111111111111111,
              "#46039f"
             ],
             [
              0.2222222222222222,
              "#7201a8"
             ],
             [
              0.3333333333333333,
              "#9c179e"
             ],
             [
              0.4444444444444444,
              "#bd3786"
             ],
             [
              0.5555555555555556,
              "#d8576b"
             ],
             [
              0.6666666666666666,
              "#ed7953"
             ],
             [
              0.7777777777777778,
              "#fb9f3a"
             ],
             [
              0.8888888888888888,
              "#fdca26"
             ],
             [
              1,
              "#f0f921"
             ]
            ],
            "type": "heatmapgl"
           }
          ],
          "histogram": [
           {
            "marker": {
             "pattern": {
              "fillmode": "overlay",
              "size": 10,
              "solidity": 0.2
             }
            },
            "type": "histogram"
           }
          ],
          "histogram2d": [
           {
            "colorbar": {
             "outlinewidth": 0,
             "ticks": ""
            },
            "colorscale": [
             [
              0,
              "#0d0887"
             ],
             [
              0.1111111111111111,
              "#46039f"
             ],
             [
              0.2222222222222222,
              "#7201a8"
             ],
             [
              0.3333333333333333,
              "#9c179e"
             ],
             [
              0.4444444444444444,
              "#bd3786"
             ],
             [
              0.5555555555555556,
              "#d8576b"
             ],
             [
              0.6666666666666666,
              "#ed7953"
             ],
             [
              0.7777777777777778,
              "#fb9f3a"
             ],
             [
              0.8888888888888888,
              "#fdca26"
             ],
             [
              1,
              "#f0f921"
             ]
            ],
            "type": "histogram2d"
           }
          ],
          "histogram2dcontour": [
           {
            "colorbar": {
             "outlinewidth": 0,
             "ticks": ""
            },
            "colorscale": [
             [
              0,
              "#0d0887"
             ],
             [
              0.1111111111111111,
              "#46039f"
             ],
             [
              0.2222222222222222,
              "#7201a8"
             ],
             [
              0.3333333333333333,
              "#9c179e"
             ],
             [
              0.4444444444444444,
              "#bd3786"
             ],
             [
              0.5555555555555556,
              "#d8576b"
             ],
             [
              0.6666666666666666,
              "#ed7953"
             ],
             [
              0.7777777777777778,
              "#fb9f3a"
             ],
             [
              0.8888888888888888,
              "#fdca26"
             ],
             [
              1,
              "#f0f921"
             ]
            ],
            "type": "histogram2dcontour"
           }
          ],
          "mesh3d": [
           {
            "colorbar": {
             "outlinewidth": 0,
             "ticks": ""
            },
            "type": "mesh3d"
           }
          ],
          "parcoords": [
           {
            "line": {
             "colorbar": {
              "outlinewidth": 0,
              "ticks": ""
             }
            },
            "type": "parcoords"
           }
          ],
          "pie": [
           {
            "automargin": true,
            "type": "pie"
           }
          ],
          "scatter": [
           {
            "fillpattern": {
             "fillmode": "overlay",
             "size": 10,
             "solidity": 0.2
            },
            "type": "scatter"
           }
          ],
          "scatter3d": [
           {
            "line": {
             "colorbar": {
              "outlinewidth": 0,
              "ticks": ""
             }
            },
            "marker": {
             "colorbar": {
              "outlinewidth": 0,
              "ticks": ""
             }
            },
            "type": "scatter3d"
           }
          ],
          "scattercarpet": [
           {
            "marker": {
             "colorbar": {
              "outlinewidth": 0,
              "ticks": ""
             }
            },
            "type": "scattercarpet"
           }
          ],
          "scattergeo": [
           {
            "marker": {
             "colorbar": {
              "outlinewidth": 0,
              "ticks": ""
             }
            },
            "type": "scattergeo"
           }
          ],
          "scattergl": [
           {
            "marker": {
             "colorbar": {
              "outlinewidth": 0,
              "ticks": ""
             }
            },
            "type": "scattergl"
           }
          ],
          "scattermapbox": [
           {
            "marker": {
             "colorbar": {
              "outlinewidth": 0,
              "ticks": ""
             }
            },
            "type": "scattermapbox"
           }
          ],
          "scatterpolar": [
           {
            "marker": {
             "colorbar": {
              "outlinewidth": 0,
              "ticks": ""
             }
            },
            "type": "scatterpolar"
           }
          ],
          "scatterpolargl": [
           {
            "marker": {
             "colorbar": {
              "outlinewidth": 0,
              "ticks": ""
             }
            },
            "type": "scatterpolargl"
           }
          ],
          "scatterternary": [
           {
            "marker": {
             "colorbar": {
              "outlinewidth": 0,
              "ticks": ""
             }
            },
            "type": "scatterternary"
           }
          ],
          "surface": [
           {
            "colorbar": {
             "outlinewidth": 0,
             "ticks": ""
            },
            "colorscale": [
             [
              0,
              "#0d0887"
             ],
             [
              0.1111111111111111,
              "#46039f"
             ],
             [
              0.2222222222222222,
              "#7201a8"
             ],
             [
              0.3333333333333333,
              "#9c179e"
             ],
             [
              0.4444444444444444,
              "#bd3786"
             ],
             [
              0.5555555555555556,
              "#d8576b"
             ],
             [
              0.6666666666666666,
              "#ed7953"
             ],
             [
              0.7777777777777778,
              "#fb9f3a"
             ],
             [
              0.8888888888888888,
              "#fdca26"
             ],
             [
              1,
              "#f0f921"
             ]
            ],
            "type": "surface"
           }
          ],
          "table": [
           {
            "cells": {
             "fill": {
              "color": "#EBF0F8"
             },
             "line": {
              "color": "white"
             }
            },
            "header": {
             "fill": {
              "color": "#C8D4E3"
             },
             "line": {
              "color": "white"
             }
            },
            "type": "table"
           }
          ]
         },
         "layout": {
          "annotationdefaults": {
           "arrowcolor": "#2a3f5f",
           "arrowhead": 0,
           "arrowwidth": 1
          },
          "autotypenumbers": "strict",
          "coloraxis": {
           "colorbar": {
            "outlinewidth": 0,
            "ticks": ""
           }
          },
          "colorscale": {
           "diverging": [
            [
             0,
             "#8e0152"
            ],
            [
             0.1,
             "#c51b7d"
            ],
            [
             0.2,
             "#de77ae"
            ],
            [
             0.3,
             "#f1b6da"
            ],
            [
             0.4,
             "#fde0ef"
            ],
            [
             0.5,
             "#f7f7f7"
            ],
            [
             0.6,
             "#e6f5d0"
            ],
            [
             0.7,
             "#b8e186"
            ],
            [
             0.8,
             "#7fbc41"
            ],
            [
             0.9,
             "#4d9221"
            ],
            [
             1,
             "#276419"
            ]
           ],
           "sequential": [
            [
             0,
             "#0d0887"
            ],
            [
             0.1111111111111111,
             "#46039f"
            ],
            [
             0.2222222222222222,
             "#7201a8"
            ],
            [
             0.3333333333333333,
             "#9c179e"
            ],
            [
             0.4444444444444444,
             "#bd3786"
            ],
            [
             0.5555555555555556,
             "#d8576b"
            ],
            [
             0.6666666666666666,
             "#ed7953"
            ],
            [
             0.7777777777777778,
             "#fb9f3a"
            ],
            [
             0.8888888888888888,
             "#fdca26"
            ],
            [
             1,
             "#f0f921"
            ]
           ],
           "sequentialminus": [
            [
             0,
             "#0d0887"
            ],
            [
             0.1111111111111111,
             "#46039f"
            ],
            [
             0.2222222222222222,
             "#7201a8"
            ],
            [
             0.3333333333333333,
             "#9c179e"
            ],
            [
             0.4444444444444444,
             "#bd3786"
            ],
            [
             0.5555555555555556,
             "#d8576b"
            ],
            [
             0.6666666666666666,
             "#ed7953"
            ],
            [
             0.7777777777777778,
             "#fb9f3a"
            ],
            [
             0.8888888888888888,
             "#fdca26"
            ],
            [
             1,
             "#f0f921"
            ]
           ]
          },
          "colorway": [
           "#636efa",
           "#EF553B",
           "#00cc96",
           "#ab63fa",
           "#FFA15A",
           "#19d3f3",
           "#FF6692",
           "#B6E880",
           "#FF97FF",
           "#FECB52"
          ],
          "font": {
           "color": "#2a3f5f"
          },
          "geo": {
           "bgcolor": "white",
           "lakecolor": "white",
           "landcolor": "#E5ECF6",
           "showlakes": true,
           "showland": true,
           "subunitcolor": "white"
          },
          "hoverlabel": {
           "align": "left"
          },
          "hovermode": "closest",
          "mapbox": {
           "style": "light"
          },
          "paper_bgcolor": "white",
          "plot_bgcolor": "#E5ECF6",
          "polar": {
           "angularaxis": {
            "gridcolor": "white",
            "linecolor": "white",
            "ticks": ""
           },
           "bgcolor": "#E5ECF6",
           "radialaxis": {
            "gridcolor": "white",
            "linecolor": "white",
            "ticks": ""
           }
          },
          "scene": {
           "xaxis": {
            "backgroundcolor": "#E5ECF6",
            "gridcolor": "white",
            "gridwidth": 2,
            "linecolor": "white",
            "showbackground": true,
            "ticks": "",
            "zerolinecolor": "white"
           },
           "yaxis": {
            "backgroundcolor": "#E5ECF6",
            "gridcolor": "white",
            "gridwidth": 2,
            "linecolor": "white",
            "showbackground": true,
            "ticks": "",
            "zerolinecolor": "white"
           },
           "zaxis": {
            "backgroundcolor": "#E5ECF6",
            "gridcolor": "white",
            "gridwidth": 2,
            "linecolor": "white",
            "showbackground": true,
            "ticks": "",
            "zerolinecolor": "white"
           }
          },
          "shapedefaults": {
           "line": {
            "color": "#2a3f5f"
           }
          },
          "ternary": {
           "aaxis": {
            "gridcolor": "white",
            "linecolor": "white",
            "ticks": ""
           },
           "baxis": {
            "gridcolor": "white",
            "linecolor": "white",
            "ticks": ""
           },
           "bgcolor": "#E5ECF6",
           "caxis": {
            "gridcolor": "white",
            "linecolor": "white",
            "ticks": ""
           }
          },
          "title": {
           "x": 0.05
          },
          "xaxis": {
           "automargin": true,
           "gridcolor": "white",
           "linecolor": "white",
           "ticks": "",
           "title": {
            "standoff": 15
           },
           "zerolinecolor": "white",
           "zerolinewidth": 2
          },
          "yaxis": {
           "automargin": true,
           "gridcolor": "white",
           "linecolor": "white",
           "ticks": "",
           "title": {
            "standoff": 15
           },
           "zerolinecolor": "white",
           "zerolinewidth": 2
          }
         }
        },
        "title": {
         "text": "K-Means Clustering of Players"
        },
        "width": 600,
        "xaxis": {
         "anchor": "y",
         "domain": [
          0,
          1
         ],
         "scaleanchor": "y",
         "title": {
          "text": "Avg Points per 36 Minutes"
         }
        },
        "yaxis": {
         "anchor": "x",
         "domain": [
          0,
          1
         ],
         "title": {
          "text": "Defensive Feature"
         }
        }
       }
      }
     },
     "metadata": {},
     "output_type": "display_data"
    }
   ],
   "source": [
    "optimal_k = 6\n",
    "kmeans = KMeans(n_clusters=optimal_k, random_state=42)\n",
    "df['Cluster'] = kmeans.fit_predict(features)\n",
    "\n",
    "fig = px.scatter(\n",
    "    df,\n",
    "    x='avg36pts',\n",
    "    y='defense_features',\n",
    "    color=df['Cluster'].astype(str),\n",
    "    hover_data={\n",
    "        'Player': True, \n",
    "        'avg36pts': True,  \n",
    "        'defense_features': True,  \n",
    "        'Cluster': True,  \n",
    "    },\n",
    "    title='K-Means Clustering of Players',\n",
    "    labels={'avg36pts': 'Avg Points per 36 Minutes', 'defense_features': 'Defensive Feature', 'Cluster': 'Cluster'}\n",
    ")\n",
    "\n",
    "centroids = kmeans.cluster_centers_\n",
    "for i, (x, y) in enumerate(centroids):\n",
    "    fig.add_scatter(\n",
    "        x=[x], y=[y], mode='markers+text', \n",
    "        marker=dict(size=10, color='red'),\n",
    "        text=[f'Centroid {i}'], textposition='top center', name='Centroids'\n",
    "    )\n",
    "\n",
    "\n",
    "fig.update_layout(\n",
    "    xaxis=dict(scaleanchor=\"y\", title='Avg Points per 36 Minutes'),\n",
    "    yaxis=dict(title='Defensive Feature'),\n",
    "    width=600, \n",
    "    height=600  \n",
    ")\n",
    "fig.show()"
   ]
  },
  {
   "cell_type": "markdown",
   "metadata": {},
   "source": [
    "2.2 DBscan method"
   ]
  },
  {
   "cell_type": "code",
   "execution_count": 231,
   "metadata": {},
   "outputs": [
    {
     "data": {
      "image/png": "[encoded data removed]",
      "text/plain": [
       "<Figure size 800x600 with 1 Axes>"
      ]
     },
     "metadata": {},
     "output_type": "display_data"
    }
   ],
   "source": [
    "#Find proper epsillon by using k-neighbour algorithm.\n",
    "from sklearn.neighbors import NearestNeighbors\n",
    "\n",
    "neighbors = NearestNeighbors(n_neighbors=4)  \n",
    "neighbors_fit = neighbors.fit(features)\n",
    "distances, indices = neighbors_fit.kneighbors(features)\n",
    "\n",
    "\n",
    "distances = np.sort(distances[:, 3])  \n",
    "plt.figure(figsize=(8, 6))\n",
    "plt.plot(distances)\n",
    "plt.xlabel('Points')\n",
    "plt.ylabel('3rd Nearest Neighbor Distance')\n",
    "plt.title('K-Nearest Neighbor Distance for eps Selection')\n",
    "plt.grid()\n",
    "plt.show()\n"
   ]
  },
  {
   "cell_type": "code",
   "execution_count": 233,
   "metadata": {},
   "outputs": [
    {
     "data": {
      "image/png": "[encoded data removed]",
      "text/plain": [
       "<Figure size 800x600 with 1 Axes>"
      ]
     },
     "metadata": {},
     "output_type": "display_data"
    }
   ],
   "source": [
    "from sklearn.cluster import DBSCAN\n",
    "dbscan = DBSCAN(eps=0.5, min_samples=4)\n",
    "df['Cluster'] = dbscan.fit_predict(features)\n",
    "\n",
    "plt.figure(figsize=(8, 6))\n",
    "unique_clusters = set(df['Cluster'])\n",
    "\n",
    "for cluster in unique_clusters:\n",
    "    cluster_data = df[df['Cluster'] == cluster]\n",
    "    plt.scatter(cluster_data['avg36pts'], cluster_data['defense_features'], label=f'Cluster {cluster}' if cluster != -1 else 'Noise')\n",
    "\n",
    "plt.xlabel('Points')\n",
    "plt.ylabel('Defensive Feature')\n",
    "plt.title('DBSCAN Clustering')\n",
    "plt.legend()\n",
    "plt.grid()\n",
    "plt.show()"
   ]
  },
  {
   "cell_type": "markdown",
   "metadata": {},
   "source": [
    "2.3 Hierarchical Clustering"
   ]
  },
  {
   "cell_type": "code",
   "execution_count": 241,
   "metadata": {},
   "outputs": [
    {
     "data": {
      "image/png": "[encoded data removed]",
      "text/plain": [
       "<Figure size 1000x700 with 1 Axes>"
      ]
     },
     "metadata": {},
     "output_type": "display_data"
    },
    {
     "ename": "TypeError",
     "evalue": "AgglomerativeClustering.__init__() got an unexpected keyword argument 'affinity'",
     "output_type": "error",
     "traceback": [
      "\u001b[1;31m---------------------------------------------------------------------------\u001b[0m",
      "\u001b[1;31mTypeError\u001b[0m                                 Traceback (most recent call last)",
      "Cell \u001b[1;32mIn[241], line 14\u001b[0m\n\u001b[0;32m     11\u001b[0m plt\u001b[38;5;241m.\u001b[39mshow()\n\u001b[0;32m     13\u001b[0m \u001b[38;5;66;03m# 选择簇数并进行聚类\u001b[39;00m\n\u001b[1;32m---> 14\u001b[0m cluster \u001b[38;5;241m=\u001b[39m \u001b[43mAgglomerativeClustering\u001b[49m\u001b[43m(\u001b[49m\u001b[43mn_clusters\u001b[49m\u001b[38;5;241;43m=\u001b[39;49m\u001b[38;5;241;43m2\u001b[39;49m\u001b[43m,\u001b[49m\u001b[43m \u001b[49m\u001b[43maffinity\u001b[49m\u001b[38;5;241;43m=\u001b[39;49m\u001b[38;5;124;43m'\u001b[39;49m\u001b[38;5;124;43meuclidean\u001b[39;49m\u001b[38;5;124;43m'\u001b[39;49m\u001b[43m,\u001b[49m\u001b[43m \u001b[49m\u001b[43mlinkage\u001b[49m\u001b[38;5;241;43m=\u001b[39;49m\u001b[38;5;124;43m'\u001b[39;49m\u001b[38;5;124;43mward\u001b[39;49m\u001b[38;5;124;43m'\u001b[39;49m\u001b[43m)\u001b[49m\n\u001b[0;32m     15\u001b[0m df[\u001b[38;5;124m'\u001b[39m\u001b[38;5;124mCluster\u001b[39m\u001b[38;5;124m'\u001b[39m] \u001b[38;5;241m=\u001b[39m cluster\u001b[38;5;241m.\u001b[39mfit_predict(features)\n\u001b[0;32m     17\u001b[0m \u001b[38;5;66;03m# 查看聚类结果\u001b[39;00m\n",
      "\u001b[1;31mTypeError\u001b[0m: AgglomerativeClustering.__init__() got an unexpected keyword argument 'affinity'"
     ]
    }
   ],
   "source": [
    "from scipy.cluster.hierarchy import dendrogram, linkage\n",
    "from sklearn.cluster import AgglomerativeClustering\n",
    "linked = linkage(features, method='ward')  # 'ward' 方法最小化类内方差\n",
    "\n",
    "# 绘制树状图\n",
    "plt.figure(figsize=(10, 7))\n",
    "dendrogram(linked, labels=df['Player'].values, orientation='top', distance_sort='descending')\n",
    "plt.title(\"Hierarchical Clustering Dendrogram\")\n",
    "plt.xlabel('Player')\n",
    "plt.ylabel('Euclidean Distance')\n",
    "plt.show()\n",
    "\n",
    "# 选择簇数并进行聚类\n",
    "cluster = AgglomerativeClustering(n_clusters=2, affinity='euclidean', linkage='ward')\n",
    "df['Cluster'] = cluster.fit_predict(features)\n",
    "\n",
    "# 查看聚类结果\n",
    "print(df[['Player', 'Cluster']])"
   ]
  },
  {
   "cell_type": "code",
   "execution_count": null,
   "metadata": {},
   "outputs": [],
   "source": []
  }
 ],
 "metadata": {
  "kernelspec": {
   "display_name": "pytorch",
   "language": "python",
   "name": "python3"
  },
  "language_info": {
   "codemirror_mode": {
    "name": "ipython",
    "version": 3
   },
   "file_extension": ".py",
   "mimetype": "text/x-python",
   "name": "python",
   "nbconvert_exporter": "python",
   "pygments_lexer": "ipython3",
   "version": "3.10.0"
  }
 },
 "nbformat": 4,
 "nbformat_minor": 2
}
